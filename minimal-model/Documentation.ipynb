{
 "cells": [
  {
   "cell_type": "markdown",
   "id": "436cde6d-0cbd-4540-b72d-e8c51707c387",
   "metadata": {},
   "source": [
    "#### Environment Setup"
   ]
  },
  {
   "cell_type": "markdown",
   "id": "11d9dc1d-c73e-44bb-a967-4584ecb908e2",
   "metadata": {},
   "source": [
    "Before starting, I already had the git repository set up. "
   ]
  },
  {
   "cell_type": "code",
   "execution_count": 1,
   "id": "5d52c08f-c918-4ee8-8b9d-c06a5b9eb06d",
   "metadata": {
    "scrolled": true
   },
   "outputs": [
    {
     "ename": "SyntaxError",
     "evalue": "invalid syntax (1412828517.py, line 1)",
     "output_type": "error",
     "traceback": [
      "\u001b[0;36m  Cell \u001b[0;32mIn[1], line 1\u001b[0;36m\u001b[0m\n\u001b[0;31m    git clone git@github.com:NidhiMuni/asleng.git\u001b[0m\n\u001b[0m        ^\u001b[0m\n\u001b[0;31mSyntaxError\u001b[0m\u001b[0;31m:\u001b[0m invalid syntax\n"
     ]
    }
   ],
   "source": [
    "git clone git@github.com:NidhiMuni/asleng.git\n",
    "git commit -m \"message\"\n",
    "git push origin main"
   ]
  },
  {
   "cell_type": "markdown",
   "id": "ebd62361-5867-44ed-9be9-c5cc9bf51974",
   "metadata": {},
   "source": [
    "Initialized the environment."
   ]
  },
  {
   "cell_type": "code",
   "execution_count": 3,
   "id": "3c870d76-7996-48b3-a29c-9d87227b0e3d",
   "metadata": {},
   "outputs": [
    {
     "ename": "SyntaxError",
     "evalue": "invalid syntax (666113342.py, line 1)",
     "output_type": "error",
     "traceback": [
      "\u001b[0;36m  Cell \u001b[0;32mIn[3], line 1\u001b[0;36m\u001b[0m\n\u001b[0;31m    django-admin startproject asleng .\u001b[0m\n\u001b[0m                 ^\u001b[0m\n\u001b[0;31mSyntaxError\u001b[0m\u001b[0;31m:\u001b[0m invalid syntax\n"
     ]
    }
   ],
   "source": [
    "django-admin startproject asleng . \n",
    "python3 manage.py startapp backend\n",
    "mkdir api\n",
    "pip3 install djangorestframework django-cors-headers\n",
    "npx create-react-app frontend\n",
    "cd frontend \n",
    "npm install axios"
   ]
  },
  {
   "cell_type": "markdown",
   "id": "7017d04d-c9ea-4c2f-b6ad-e84adcf05dd0",
   "metadata": {},
   "source": [
    "#### Run Code"
   ]
  },
  {
   "cell_type": "markdown",
   "id": "92470ace-8af7-455a-95e0-d8da75c69a4b",
   "metadata": {},
   "source": [
    "If models.py is changed:"
   ]
  },
  {
   "cell_type": "code",
   "execution_count": 4,
   "id": "37476731-3c29-4848-ad7d-2b95431321d5",
   "metadata": {},
   "outputs": [
    {
     "ename": "SyntaxError",
     "evalue": "invalid syntax (1446912267.py, line 1)",
     "output_type": "error",
     "traceback": [
      "\u001b[0;36m  Cell \u001b[0;32mIn[4], line 1\u001b[0;36m\u001b[0m\n\u001b[0;31m    python3 manage.py makemigrations\u001b[0m\n\u001b[0m            ^\u001b[0m\n\u001b[0;31mSyntaxError\u001b[0m\u001b[0;31m:\u001b[0m invalid syntax\n"
     ]
    }
   ],
   "source": [
    "python3 manage.py makemigrations\n",
    "python3 manage.py migrate"
   ]
  },
  {
   "cell_type": "markdown",
   "id": "9b1e6c1e-2c26-498e-ae8e-e31825773559",
   "metadata": {},
   "source": [
    "##### Always:"
   ]
  },
  {
   "cell_type": "code",
   "execution_count": 7,
   "id": "5108a8e2-97de-40ff-b554-71c4b97d1197",
   "metadata": {},
   "outputs": [
    {
     "ename": "SyntaxError",
     "evalue": "invalid syntax (3361570164.py, line 1)",
     "output_type": "error",
     "traceback": [
      "\u001b[0;36m  Cell \u001b[0;32mIn[7], line 1\u001b[0;36m\u001b[0m\n\u001b[0;31m    python3 manage.py runserver\u001b[0m\n\u001b[0m            ^\u001b[0m\n\u001b[0;31mSyntaxError\u001b[0m\u001b[0;31m:\u001b[0m invalid syntax\n"
     ]
    }
   ],
   "source": [
    "python3 manage.py runserver\n",
    "cd frontend\n",
    "npm start"
   ]
  },
  {
   "cell_type": "markdown",
   "id": "6f52bcfc-c8fa-4ca7-913c-96a60ee094da",
   "metadata": {},
   "source": [
    "### STEPS"
   ]
  },
  {
   "cell_type": "markdown",
   "id": "91474935-abdb-41f1-9be6-73187ac23090",
   "metadata": {},
   "source": [
    "1) Develop the views and models\n",
    "2) Develop the API\n",
    "3) Develop the frontend"
   ]
  },
  {
   "cell_type": "code",
   "execution_count": null,
   "id": "c3488651-2b22-4f9c-9524-f1ddad1158b1",
   "metadata": {},
   "outputs": [],
   "source": []
  }
 ],
 "metadata": {
  "kernelspec": {
   "display_name": "Python 3 (ipykernel)",
   "language": "python",
   "name": "python3"
  },
  "language_info": {
   "codemirror_mode": {
    "name": "ipython",
    "version": 3
   },
   "file_extension": ".py",
   "mimetype": "text/x-python",
   "name": "python",
   "nbconvert_exporter": "python",
   "pygments_lexer": "ipython3",
   "version": "3.12.2"
  }
 },
 "nbformat": 4,
 "nbformat_minor": 5
}
