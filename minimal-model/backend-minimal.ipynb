{
 "cells": [
  {
   "cell_type": "markdown",
   "id": "a5b98f4b-0745-49df-8f47-4f806490e6c7",
   "metadata": {},
   "source": [
    "#### Setup + Prepare Data"
   ]
  },
  {
   "cell_type": "code",
   "execution_count": 1,
   "id": "c29e4614-8039-47ea-a3b3-d8acd4201087",
   "metadata": {},
   "outputs": [
    {
     "name": "stderr",
     "output_type": "stream",
     "text": [
      "/var/folders/v2/09vly0y934v7rq6zkxt1fwvr0000gn/T/ipykernel_39782/1778872367.py:3: DeprecationWarning: \n",
      "Pyarrow will become a required dependency of pandas in the next major release of pandas (pandas 3.0),\n",
      "(to allow more performant data types, such as the Arrow string type, and better interoperability with other libraries)\n",
      "but was not found to be installed on your system.\n",
      "If this would cause problems for you,\n",
      "please provide us feedback at https://github.com/pandas-dev/pandas/issues/54466\n",
      "        \n",
      "  import pandas as pd\n",
      "/var/folders/v2/09vly0y934v7rq6zkxt1fwvr0000gn/T/ipykernel_39782/1778872367.py:5: DtypeWarning: Columns (0) have mixed types. Specify dtype option on import or set low_memory=False.\n",
      "  edges = pd.read_csv('edges.tsv', sep='\\t')\n"
     ]
    }
   ],
   "source": [
    "# Setup \n",
    "# !pip3 install pandas\n",
    "import pandas as pd\n",
    "import numpy as np\n",
    "edges = pd.read_csv('edges.tsv', sep='\\t')\n",
    "nodes = pd.read_csv('nodes.tsv', sep='\\t')"
   ]
  },
  {
   "cell_type": "markdown",
   "id": "f93b298e-4269-421d-a9dd-621d8c5209ea",
   "metadata": {},
   "source": [
    "Get a map of relations we want and possible objects (get a edges file we specifically want?)"
   ]
  },
  {
   "cell_type": "code",
   "execution_count": 84,
   "id": "fdcd32fd-0fcf-46b7-88ed-0abc212cef80",
   "metadata": {},
   "outputs": [],
   "source": [
    "columns = [\n",
    "    'Contact', 'Dominant_end_handshape', 'Dominant_start_handshape',\n",
    "    'Flexion', 'Flexion_Change', 'Handshape', 'Location', 'Major_Location',\n",
    "    'Minor_Location', 'Nondominant_Handshape', 'Path_Movement',\n",
    "    'Repeated_Movement', 'Second_Minor_Location', 'Selected_Fingers',\n",
    "    'Sign_Duration', 'Sign_Type', 'Spread', 'Spread_Change',\n",
    "    'Thumb_Contact', 'Thumb_Position', 'Wrist_Twist', 'sign_type'\n",
    "]"
   ]
  },
  {
   "cell_type": "code",
   "execution_count": 85,
   "id": "226f82d8-097c-4a81-a933-7c6467e47366",
   "metadata": {
    "scrolled": true
   },
   "outputs": [],
   "source": [
    "cols_keywords = {}\n",
    "\n",
    "for column in columns: \n",
    "    set_objs = set(edges[edges['relation'] == column]['object'])\n",
    "    cols_keywords[column] = set_objs\n",
    "   \n",
    "# print(cols_keywords)"
   ]
  },
  {
   "cell_type": "markdown",
   "id": "c681c656-1886-439b-85da-bbac92142d90",
   "metadata": {},
   "source": [
    "Update edges file"
   ]
  },
  {
   "cell_type": "code",
   "execution_count": 86,
   "id": "159f3eb3-2654-49d4-b57c-5f2ab572259e",
   "metadata": {},
   "outputs": [],
   "source": [
    "filteredEdges = edges[edges[\"relation\"].isin(columns)]"
   ]
  },
  {
   "cell_type": "markdown",
   "id": "216b9c59-4452-41eb-8826-0fcbcb89566f",
   "metadata": {},
   "source": [
    "change 1s and 0s to true and false"
   ]
  },
  {
   "cell_type": "code",
   "execution_count": 87,
   "id": "78e594d0-6250-4ee0-8702-826a972d40cc",
   "metadata": {},
   "outputs": [],
   "source": [
    "filteredEdges.loc[(filteredEdges['object'] == '1.0') & \n",
    "                  (~filteredEdges['relation'].isin(['Handshape', 'Dominant_end_handshape', 'Dominant_start_handshape', 'Nondominant_Handshape'])), \n",
    "                  ['object']] = True\n",
    "filteredEdges.loc[(filteredEdges['object'] == '1') & \n",
    "                  (~filteredEdges['relation'].isin(['Handshape', 'Dominant_end_handshape', 'Dominant_start_handshape', 'Nondominant_Handshape'])), \n",
    "                  ['object']] = True\n",
    "filteredEdges.loc[(filteredEdges['object'] == '0.0') & \n",
    "                  (~filteredEdges['relation'].isin(['Handshape', 'Dominant_end_handshape', 'Dominant_start_handshape', 'Nondominant_Handshape'])), \n",
    "                  ['object']] = False\n",
    "filteredEdges.loc[(filteredEdges['object'] == '0') & \n",
    "                  (~filteredEdges['relation'].isin(['Handshape', 'Dominant_end_handshape', 'Dominant_start_handshape', 'Nondominant_Handshape'])), \n",
    "                  ['object']] = False"
   ]
  },
  {
   "cell_type": "markdown",
   "id": "93b76de4-ec14-4168-8845-1f55cf94ebed",
   "metadata": {},
   "source": [
    "change the numerical values of into ranges (Sign_Duration)"
   ]
  },
  {
   "cell_type": "code",
   "execution_count": 88,
   "id": "7e0505af-3334-4d28-ad4f-763ae8b14096",
   "metadata": {},
   "outputs": [
    {
     "name": "stderr",
     "output_type": "stream",
     "text": [
      "/var/folders/v2/09vly0y934v7rq6zkxt1fwvr0000gn/T/ipykernel_26099/1471796543.py:3: SettingWithCopyWarning: \n",
      "A value is trying to be set on a copy of a slice from a DataFrame.\n",
      "Try using .loc[row_indexer,col_indexer] = value instead\n",
      "\n",
      "See the caveats in the documentation: https://pandas.pydata.org/pandas-docs/stable/user_guide/indexing.html#returning-a-view-versus-a-copy\n",
      "  sign_duration_rows['object'] = pd.to_numeric(sign_duration_rows['object'], errors='coerce')\n",
      "/var/folders/v2/09vly0y934v7rq6zkxt1fwvr0000gn/T/ipykernel_26099/1471796543.py:4: SettingWithCopyWarning: \n",
      "A value is trying to be set on a copy of a slice from a DataFrame\n",
      "\n",
      "See the caveats in the documentation: https://pandas.pydata.org/pandas-docs/stable/user_guide/indexing.html#returning-a-view-versus-a-copy\n",
      "  sign_duration_rows.dropna(subset=['object'], inplace=True)\n",
      "/var/folders/v2/09vly0y934v7rq6zkxt1fwvr0000gn/T/ipykernel_26099/1471796543.py:5: SettingWithCopyWarning: \n",
      "A value is trying to be set on a copy of a slice from a DataFrame.\n",
      "Try using .loc[row_indexer,col_indexer] = value instead\n",
      "\n",
      "See the caveats in the documentation: https://pandas.pydata.org/pandas-docs/stable/user_guide/indexing.html#returning-a-view-versus-a-copy\n",
      "  sign_duration_rows['object'] = (sign_duration_rows['object'] // 100) * 100\n",
      "/var/folders/v2/09vly0y934v7rq6zkxt1fwvr0000gn/T/ipykernel_26099/1471796543.py:6: SettingWithCopyWarning: \n",
      "A value is trying to be set on a copy of a slice from a DataFrame.\n",
      "Try using .loc[row_indexer,col_indexer] = value instead\n",
      "\n",
      "See the caveats in the documentation: https://pandas.pydata.org/pandas-docs/stable/user_guide/indexing.html#returning-a-view-versus-a-copy\n",
      "  sign_duration_rows['object'] = sign_duration_rows['object'].astype(int).astype(str)\n"
     ]
    }
   ],
   "source": [
    "#for all sign duration values, round down to nearest 100 to get a 'range'\n",
    "sign_duration_rows = filteredEdges[filteredEdges['relation'] == 'Sign_Duration']\n",
    "sign_duration_rows['object'] = pd.to_numeric(sign_duration_rows['object'], errors='coerce')\n",
    "sign_duration_rows.dropna(subset=['object'], inplace=True)\n",
    "sign_duration_rows['object'] = (sign_duration_rows['object'] // 100) * 100\n",
    "sign_duration_rows['object'] = sign_duration_rows['object'].astype(int).astype(str)\n",
    "filteredEdges.loc[sign_duration_rows.index, 'object'] = sign_duration_rows['object']"
   ]
  },
  {
   "cell_type": "markdown",
   "id": "721719f1-8c7c-4359-bbbb-9e66105cc277",
   "metadata": {},
   "source": [
    "Keep only the columns I want"
   ]
  },
  {
   "cell_type": "code",
   "execution_count": 89,
   "id": "8a48023e-d644-45dd-862d-35a8f248c18b",
   "metadata": {},
   "outputs": [],
   "source": [
    "filteredEdges = filteredEdges.loc[:, ['subject', 'relation', 'object']]"
   ]
  },
  {
   "cell_type": "code",
   "execution_count": 90,
   "id": "9b5d11e4-dfa7-4418-a6ed-26b580159224",
   "metadata": {},
   "outputs": [],
   "source": [
    "filteredEdges['subject_count'] = filteredEdges.groupby('subject')['subject'].transform('count')"
   ]
  },
  {
   "cell_type": "code",
   "execution_count": 91,
   "id": "63d7e1f5-627d-4a6d-9171-059c47c8cb43",
   "metadata": {},
   "outputs": [],
   "source": [
    "filteredEdges\n",
    "filteredEdges.to_csv('filteredEdges.csv', index=False)"
   ]
  },
  {
   "cell_type": "code",
   "execution_count": 92,
   "id": "bdc4efe9-6f91-42fc-b639-72a95c9acbe1",
   "metadata": {},
   "outputs": [],
   "source": [
    "filtered_cols_keywords = {}\n",
    "\n",
    "for column in columns: \n",
    "    set_objs = set(filteredEdges[filteredEdges['relation'] == column]['object'])\n",
    "    filtered_cols_keywords[column] = set_objs"
   ]
  },
  {
   "cell_type": "code",
   "execution_count": 93,
   "id": "fd781d20-8171-4146-abcd-7295377b38ad",
   "metadata": {
    "scrolled": true
   },
   "outputs": [],
   "source": [
    "filtered_cols_keywords\n",
    "np.save('filtered_edges_dict.npy', filtered_cols_keywords) "
   ]
  },
  {
   "cell_type": "code",
   "execution_count": 94,
   "id": "66f348b9-ca33-400f-8cb5-c2ec6ed52a8c",
   "metadata": {},
   "outputs": [],
   "source": [
    "keywords_df = pd.DataFrame.from_dict(filtered_cols_keywords, orient='index')\n",
    "keywords_df.to_csv('keywords_df.csv', index=True, index_label='relation')"
   ]
  },
  {
   "cell_type": "markdown",
   "id": "f6ff29d6-3756-4959-b491-9c7c0ee79479",
   "metadata": {},
   "source": [
    "#### Model"
   ]
  },
  {
   "cell_type": "markdown",
   "id": "7a1aee1e-0d2c-45e8-b925-576055680381",
   "metadata": {},
   "source": [
    "##### Recieve a list of phonological features"
   ]
  },
  {
   "cell_type": "code",
   "execution_count": 4,
   "id": "4dcd6dd7-946b-42ac-a07e-567a4b440d52",
   "metadata": {},
   "outputs": [
    {
     "name": "stderr",
     "output_type": "stream",
     "text": [
      "/var/folders/v2/09vly0y934v7rq6zkxt1fwvr0000gn/T/ipykernel_12378/4080736814.py:1: DeprecationWarning: \n",
      "Pyarrow will become a required dependency of pandas in the next major release of pandas (pandas 3.0),\n",
      "(to allow more performant data types, such as the Arrow string type, and better interoperability with other libraries)\n",
      "but was not found to be installed on your system.\n",
      "If this would cause problems for you,\n",
      "please provide us feedback at https://github.com/pandas-dev/pandas/issues/54466\n",
      "        \n",
      "  import pandas as pd\n"
     ]
    }
   ],
   "source": [
    "import pandas as pd"
   ]
  },
  {
   "cell_type": "code",
   "execution_count": 5,
   "id": "c36bd1a0-3b65-4b72-925e-ef55041a6491",
   "metadata": {},
   "outputs": [],
   "source": [
    "edges = pd.read_csv('filteredEdges.csv')"
   ]
  },
  {
   "cell_type": "code",
   "execution_count": 14,
   "id": "c6ef0d60-6f1b-4651-b63c-db24b9f982ec",
   "metadata": {},
   "outputs": [],
   "source": [
    "test_sample = edges[edges['subject'] == 'TV']"
   ]
  },
  {
   "cell_type": "code",
   "execution_count": 20,
   "id": "a9707c39-7f4f-44c5-8e37-bee0ba40fb6a",
   "metadata": {},
   "outputs": [],
   "source": [
    "selected_keywords = []\n",
    "for index, row in test_sample.iterrows():\n",
    "    selected_keywords.append({'selected_relation': row['relation'], 'selected_object': row['object']})\n"
   ]
  },
  {
   "cell_type": "code",
   "execution_count": 21,
   "id": "a26c6d7e-ad48-4702-a32a-af2a126e3d8d",
   "metadata": {},
   "outputs": [
    {
     "data": {
      "text/plain": [
       "[{'selected_relation': 'Sign_Duration', 'selected_object': '500'},\n",
       " {'selected_relation': 'Handshape', 'selected_object': 'baby_o'},\n",
       " {'selected_relation': 'Selected_Fingers', 'selected_object': 'i'},\n",
       " {'selected_relation': 'Flexion', 'selected_object': 'bent'},\n",
       " {'selected_relation': 'Thumb_Position', 'selected_object': 'open'},\n",
       " {'selected_relation': 'Thumb_Contact', 'selected_object': 'True'},\n",
       " {'selected_relation': 'Sign_Type', 'selected_object': 'one handed'},\n",
       " {'selected_relation': 'Path_Movement', 'selected_object': 'none'},\n",
       " {'selected_relation': 'Repeated_Movement', 'selected_object': 'False'},\n",
       " {'selected_relation': 'Major_Location', 'selected_object': 'neutral'},\n",
       " {'selected_relation': 'Minor_Location', 'selected_object': 'neutral'},\n",
       " {'selected_relation': 'Contact', 'selected_object': 'False'},\n",
       " {'selected_relation': 'Wrist_Twist', 'selected_object': 'False'}]"
      ]
     },
     "execution_count": 21,
     "metadata": {},
     "output_type": "execute_result"
    }
   ],
   "source": [
    "selected_keywords"
   ]
  },
  {
   "cell_type": "markdown",
   "id": "cd91c4ec-59c4-447b-a3dc-f00f99b7a30e",
   "metadata": {},
   "source": [
    "##### For each sign, get a set of signs at which that relation = true"
   ]
  },
  {
   "cell_type": "code",
   "execution_count": 33,
   "id": "0b3639e5-e9c7-4599-887f-072c205def62",
   "metadata": {},
   "outputs": [
    {
     "name": "stderr",
     "output_type": "stream",
     "text": [
      "/var/folders/v2/09vly0y934v7rq6zkxt1fwvr0000gn/T/ipykernel_12378/708101150.py:7: UserWarning: Boolean Series key will be reindexed to match DataFrame index.\n",
      "  signsWithThose = edges[edges['relation'] == thisRelation][edges['object'] == thisObject]\n",
      "/var/folders/v2/09vly0y934v7rq6zkxt1fwvr0000gn/T/ipykernel_12378/708101150.py:7: UserWarning: Boolean Series key will be reindexed to match DataFrame index.\n",
      "  signsWithThose = edges[edges['relation'] == thisRelation][edges['object'] == thisObject]\n",
      "/var/folders/v2/09vly0y934v7rq6zkxt1fwvr0000gn/T/ipykernel_12378/708101150.py:7: UserWarning: Boolean Series key will be reindexed to match DataFrame index.\n",
      "  signsWithThose = edges[edges['relation'] == thisRelation][edges['object'] == thisObject]\n",
      "/var/folders/v2/09vly0y934v7rq6zkxt1fwvr0000gn/T/ipykernel_12378/708101150.py:7: UserWarning: Boolean Series key will be reindexed to match DataFrame index.\n",
      "  signsWithThose = edges[edges['relation'] == thisRelation][edges['object'] == thisObject]\n",
      "/var/folders/v2/09vly0y934v7rq6zkxt1fwvr0000gn/T/ipykernel_12378/708101150.py:7: UserWarning: Boolean Series key will be reindexed to match DataFrame index.\n",
      "  signsWithThose = edges[edges['relation'] == thisRelation][edges['object'] == thisObject]\n",
      "/var/folders/v2/09vly0y934v7rq6zkxt1fwvr0000gn/T/ipykernel_12378/708101150.py:7: UserWarning: Boolean Series key will be reindexed to match DataFrame index.\n",
      "  signsWithThose = edges[edges['relation'] == thisRelation][edges['object'] == thisObject]\n",
      "/var/folders/v2/09vly0y934v7rq6zkxt1fwvr0000gn/T/ipykernel_12378/708101150.py:7: UserWarning: Boolean Series key will be reindexed to match DataFrame index.\n",
      "  signsWithThose = edges[edges['relation'] == thisRelation][edges['object'] == thisObject]\n",
      "/var/folders/v2/09vly0y934v7rq6zkxt1fwvr0000gn/T/ipykernel_12378/708101150.py:7: UserWarning: Boolean Series key will be reindexed to match DataFrame index.\n",
      "  signsWithThose = edges[edges['relation'] == thisRelation][edges['object'] == thisObject]\n",
      "/var/folders/v2/09vly0y934v7rq6zkxt1fwvr0000gn/T/ipykernel_12378/708101150.py:7: UserWarning: Boolean Series key will be reindexed to match DataFrame index.\n",
      "  signsWithThose = edges[edges['relation'] == thisRelation][edges['object'] == thisObject]\n",
      "/var/folders/v2/09vly0y934v7rq6zkxt1fwvr0000gn/T/ipykernel_12378/708101150.py:7: UserWarning: Boolean Series key will be reindexed to match DataFrame index.\n",
      "  signsWithThose = edges[edges['relation'] == thisRelation][edges['object'] == thisObject]\n",
      "/var/folders/v2/09vly0y934v7rq6zkxt1fwvr0000gn/T/ipykernel_12378/708101150.py:7: UserWarning: Boolean Series key will be reindexed to match DataFrame index.\n",
      "  signsWithThose = edges[edges['relation'] == thisRelation][edges['object'] == thisObject]\n",
      "/var/folders/v2/09vly0y934v7rq6zkxt1fwvr0000gn/T/ipykernel_12378/708101150.py:7: UserWarning: Boolean Series key will be reindexed to match DataFrame index.\n",
      "  signsWithThose = edges[edges['relation'] == thisRelation][edges['object'] == thisObject]\n",
      "/var/folders/v2/09vly0y934v7rq6zkxt1fwvr0000gn/T/ipykernel_12378/708101150.py:7: UserWarning: Boolean Series key will be reindexed to match DataFrame index.\n",
      "  signsWithThose = edges[edges['relation'] == thisRelation][edges['object'] == thisObject]\n"
     ]
    }
   ],
   "source": [
    "setOfSigns = pd.DataFrame()\n",
    "toConcat = []\n",
    "\n",
    "for i, row in enumerate(selected_keywords):\n",
    "    thisRelation = row['selected_relation']\n",
    "    thisObject = row['selected_object']\n",
    "    signsWithThose = edges[edges['relation'] == thisRelation][edges['object'] == thisObject]\n",
    "    toConcat.append(signsWithThose)\n",
    "\n",
    "setOfSigns = pd.concat(toConcat, ignore_index=True)"
   ]
  },
  {
   "cell_type": "code",
   "execution_count": 35,
   "id": "2852b9a0-f52d-4d54-ba3b-56d030c96152",
   "metadata": {},
   "outputs": [],
   "source": [
    "counts = setOfSigns['subject'].value_counts()\n",
    "setOfSigns['repeat_count'] = setOfSigns['subject'].map(counts)"
   ]
  },
  {
   "cell_type": "code",
   "execution_count": 37,
   "id": "c1c45c11-cbf4-4819-9779-73e095f5933c",
   "metadata": {},
   "outputs": [],
   "source": [
    "setOfSigns['match_proportion'] = setOfSigns['repeat_count'] / setOfSigns['subject_count']"
   ]
  },
  {
   "cell_type": "code",
   "execution_count": 38,
   "id": "23e2fc7a-3015-4bb8-88fe-a9b5d451236e",
   "metadata": {},
   "outputs": [
    {
     "data": {
      "text/html": [
       "<div>\n",
       "<style scoped>\n",
       "    .dataframe tbody tr th:only-of-type {\n",
       "        vertical-align: middle;\n",
       "    }\n",
       "\n",
       "    .dataframe tbody tr th {\n",
       "        vertical-align: top;\n",
       "    }\n",
       "\n",
       "    .dataframe thead th {\n",
       "        text-align: right;\n",
       "    }\n",
       "</style>\n",
       "<table border=\"1\" class=\"dataframe\">\n",
       "  <thead>\n",
       "    <tr style=\"text-align: right;\">\n",
       "      <th></th>\n",
       "      <th>subject</th>\n",
       "      <th>relation</th>\n",
       "      <th>object</th>\n",
       "      <th>subject_count</th>\n",
       "      <th>repeat_count</th>\n",
       "      <th>match_proportion</th>\n",
       "    </tr>\n",
       "  </thead>\n",
       "  <tbody>\n",
       "    <tr>\n",
       "      <th>0</th>\n",
       "      <td>these</td>\n",
       "      <td>Sign_Duration</td>\n",
       "      <td>500</td>\n",
       "      <td>27</td>\n",
       "      <td>12</td>\n",
       "      <td>0.444444</td>\n",
       "    </tr>\n",
       "    <tr>\n",
       "      <th>1</th>\n",
       "      <td>book</td>\n",
       "      <td>Sign_Duration</td>\n",
       "      <td>500</td>\n",
       "      <td>30</td>\n",
       "      <td>5</td>\n",
       "      <td>0.166667</td>\n",
       "    </tr>\n",
       "    <tr>\n",
       "      <th>2</th>\n",
       "      <td>apple</td>\n",
       "      <td>Sign_Duration</td>\n",
       "      <td>500</td>\n",
       "      <td>26</td>\n",
       "      <td>6</td>\n",
       "      <td>0.230769</td>\n",
       "    </tr>\n",
       "    <tr>\n",
       "      <th>3</th>\n",
       "      <td>must</td>\n",
       "      <td>Sign_Duration</td>\n",
       "      <td>500</td>\n",
       "      <td>25</td>\n",
       "      <td>13</td>\n",
       "      <td>0.520000</td>\n",
       "    </tr>\n",
       "    <tr>\n",
       "      <th>4</th>\n",
       "      <td>milk</td>\n",
       "      <td>Sign_Duration</td>\n",
       "      <td>500</td>\n",
       "      <td>27</td>\n",
       "      <td>13</td>\n",
       "      <td>0.481481</td>\n",
       "    </tr>\n",
       "    <tr>\n",
       "      <th>...</th>\n",
       "      <td>...</td>\n",
       "      <td>...</td>\n",
       "      <td>...</td>\n",
       "      <td>...</td>\n",
       "      <td>...</td>\n",
       "      <td>...</td>\n",
       "    </tr>\n",
       "    <tr>\n",
       "      <th>18053</th>\n",
       "      <td>zero</td>\n",
       "      <td>Wrist_Twist</td>\n",
       "      <td>False</td>\n",
       "      <td>29</td>\n",
       "      <td>12</td>\n",
       "      <td>0.413793</td>\n",
       "    </tr>\n",
       "    <tr>\n",
       "      <th>18054</th>\n",
       "      <td>zipper</td>\n",
       "      <td>Wrist_Twist</td>\n",
       "      <td>False</td>\n",
       "      <td>26</td>\n",
       "      <td>10</td>\n",
       "      <td>0.384615</td>\n",
       "    </tr>\n",
       "    <tr>\n",
       "      <th>18055</th>\n",
       "      <td>zoo</td>\n",
       "      <td>Wrist_Twist</td>\n",
       "      <td>False</td>\n",
       "      <td>20</td>\n",
       "      <td>10</td>\n",
       "      <td>0.500000</td>\n",
       "    </tr>\n",
       "    <tr>\n",
       "      <th>18056</th>\n",
       "      <td>zoom_in</td>\n",
       "      <td>Wrist_Twist</td>\n",
       "      <td>False</td>\n",
       "      <td>22</td>\n",
       "      <td>12</td>\n",
       "      <td>0.545455</td>\n",
       "    </tr>\n",
       "    <tr>\n",
       "      <th>18057</th>\n",
       "      <td>zoom_off</td>\n",
       "      <td>Wrist_Twist</td>\n",
       "      <td>False</td>\n",
       "      <td>22</td>\n",
       "      <td>10</td>\n",
       "      <td>0.454545</td>\n",
       "    </tr>\n",
       "  </tbody>\n",
       "</table>\n",
       "<p>18058 rows × 6 columns</p>\n",
       "</div>"
      ],
      "text/plain": [
       "        subject       relation object  subject_count  repeat_count  \\\n",
       "0         these  Sign_Duration    500             27            12   \n",
       "1          book  Sign_Duration    500             30             5   \n",
       "2         apple  Sign_Duration    500             26             6   \n",
       "3          must  Sign_Duration    500             25            13   \n",
       "4          milk  Sign_Duration    500             27            13   \n",
       "...         ...            ...    ...            ...           ...   \n",
       "18053      zero    Wrist_Twist  False             29            12   \n",
       "18054    zipper    Wrist_Twist  False             26            10   \n",
       "18055       zoo    Wrist_Twist  False             20            10   \n",
       "18056   zoom_in    Wrist_Twist  False             22            12   \n",
       "18057  zoom_off    Wrist_Twist  False             22            10   \n",
       "\n",
       "       match_proportion  \n",
       "0              0.444444  \n",
       "1              0.166667  \n",
       "2              0.230769  \n",
       "3              0.520000  \n",
       "4              0.481481  \n",
       "...                 ...  \n",
       "18053          0.413793  \n",
       "18054          0.384615  \n",
       "18055          0.500000  \n",
       "18056          0.545455  \n",
       "18057          0.454545  \n",
       "\n",
       "[18058 rows x 6 columns]"
      ]
     },
     "execution_count": 38,
     "metadata": {},
     "output_type": "execute_result"
    }
   ],
   "source": [
    "setOfSigns"
   ]
  },
  {
   "cell_type": "code",
   "execution_count": 39,
   "id": "7d8e5875-ced7-4b32-a34d-7ceb7682d039",
   "metadata": {},
   "outputs": [],
   "source": [
    "max_index = setOfSigns['match_proportion'].idxmax()\n",
    "highest_ratio_row = setOfSigns.loc[max_index]"
   ]
  },
  {
   "cell_type": "code",
   "execution_count": 42,
   "id": "17847cab-789e-4669-9b26-f6a377660f01",
   "metadata": {},
   "outputs": [],
   "source": [
    "predicted_subject = highest_ratio_row['subject']"
   ]
  },
  {
   "cell_type": "markdown",
   "id": "b6954174-7548-44a5-9b13-c39e85e24530",
   "metadata": {},
   "source": [
    "##### Get an ordered list of signs with descending # of keyword matches"
   ]
  },
  {
   "cell_type": "markdown",
   "id": "46381686-0467-4fd7-bc0b-db551ae9866e",
   "metadata": {},
   "source": [
    "##### Get & display gloss and #matches for top n signs"
   ]
  }
 ],
 "metadata": {
  "kernelspec": {
   "display_name": "Python 3 (ipykernel)",
   "language": "python",
   "name": "python3"
  },
  "language_info": {
   "codemirror_mode": {
    "name": "ipython",
    "version": 3
   },
   "file_extension": ".py",
   "mimetype": "text/x-python",
   "name": "python",
   "nbconvert_exporter": "python",
   "pygments_lexer": "ipython3",
   "version": "3.12.2"
  }
 },
 "nbformat": 4,
 "nbformat_minor": 5
}
