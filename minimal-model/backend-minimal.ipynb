{
 "cells": [
  {
   "cell_type": "markdown",
   "id": "a5b98f4b-0745-49df-8f47-4f806490e6c7",
   "metadata": {},
   "source": [
    "#### Setup + Prepare Data"
   ]
  },
  {
   "cell_type": "code",
   "execution_count": 60,
   "id": "c29e4614-8039-47ea-a3b3-d8acd4201087",
   "metadata": {},
   "outputs": [
    {
     "name": "stderr",
     "output_type": "stream",
     "text": [
      "/var/folders/v2/09vly0y934v7rq6zkxt1fwvr0000gn/T/ipykernel_26099/1778872367.py:5: DtypeWarning: Columns (0) have mixed types. Specify dtype option on import or set low_memory=False.\n",
      "  edges = pd.read_csv('edges.tsv', sep='\\t')\n"
     ]
    }
   ],
   "source": [
    "# Setup \n",
    "# !pip3 install pandas\n",
    "import pandas as pd\n",
    "import numpy as np\n",
    "edges = pd.read_csv('edges.tsv', sep='\\t')\n",
    "nodes = pd.read_csv('nodes.tsv', sep='\\t')"
   ]
  },
  {
   "cell_type": "markdown",
   "id": "f93b298e-4269-421d-a9dd-621d8c5209ea",
   "metadata": {},
   "source": [
    "Get a map of relations we want and possible objects (get a edges file we specifically want?)"
   ]
  },
  {
   "cell_type": "code",
   "execution_count": 3,
   "id": "fdcd32fd-0fcf-46b7-88ed-0abc212cef80",
   "metadata": {},
   "outputs": [],
   "source": [
    "columns = [\n",
    "    'Contact', 'Dominant_end_handshape', 'Dominant_start_handshape',\n",
    "    'Flexion', 'Flexion_Change', 'Handshape', 'Location', 'Major_Location',\n",
    "    'Minor_Location', 'Nondominant_Handshape', 'Path_Movement',\n",
    "    'Repeated_Movement', 'Second_Minor_Location', 'Selected_Fingers',\n",
    "    'Sign_Duration', 'Sign_Type', 'Spread', 'Spread_Change',\n",
    "    'Thumb_Contact', 'Thumb_Position', 'Wrist_Twist', 'sign_type'\n",
    "]"
   ]
  },
  {
   "cell_type": "code",
   "execution_count": 10,
   "id": "226f82d8-097c-4a81-a933-7c6467e47366",
   "metadata": {
    "scrolled": true
   },
   "outputs": [],
   "source": [
    "cols_keywords = {}\n",
    "\n",
    "for column in columns: \n",
    "    set_objs = set(edges[edges['relation'] == column]['object'])\n",
    "    cols_keywords[column] = set_objs\n",
    "   \n",
    "# print(cols_keywords)"
   ]
  },
  {
   "cell_type": "markdown",
   "id": "c681c656-1886-439b-85da-bbac92142d90",
   "metadata": {},
   "source": [
    "Update edges file"
   ]
  },
  {
   "cell_type": "code",
   "execution_count": 12,
   "id": "159f3eb3-2654-49d4-b57c-5f2ab572259e",
   "metadata": {},
   "outputs": [],
   "source": [
    "filteredEdges = edges[edges[\"relation\"].isin(columns)]"
   ]
  },
  {
   "cell_type": "markdown",
   "id": "216b9c59-4452-41eb-8826-0fcbcb89566f",
   "metadata": {},
   "source": [
    "change 1s and 0s to true and false"
   ]
  },
  {
   "cell_type": "code",
   "execution_count": 29,
   "id": "78e594d0-6250-4ee0-8702-826a972d40cc",
   "metadata": {},
   "outputs": [],
   "source": [
    "filteredEdges.loc[(filteredEdges['object'] == '1.0') & \n",
    "                  (~filteredEdges['relation'].isin(['Handshape', 'Dominant_end_handshape', 'Dominant_start_handshape', 'Nondominant_Handshape'])), \n",
    "                  ['object']] = True\n",
    "filteredEdges.loc[(filteredEdges['object'] == '1') & \n",
    "                  (~filteredEdges['relation'].isin(['Handshape', 'Dominant_end_handshape', 'Dominant_start_handshape', 'Nondominant_Handshape'])), \n",
    "                  ['object']] = True\n",
    "filteredEdges.loc[(filteredEdges['object'] == '0.0') & \n",
    "                  (~filteredEdges['relation'].isin(['Handshape', 'Dominant_end_handshape', 'Dominant_start_handshape', 'Nondominant_Handshape'])), \n",
    "                  ['object']] = False\n",
    "filteredEdges.loc[(filteredEdges['object'] == '0') & \n",
    "                  (~filteredEdges['relation'].isin(['Handshape', 'Dominant_end_handshape', 'Dominant_start_handshape', 'Nondominant_Handshape'])), \n",
    "                  ['object']] = False"
   ]
  },
  {
   "cell_type": "markdown",
   "id": "93b76de4-ec14-4168-8845-1f55cf94ebed",
   "metadata": {},
   "source": [
    "change the numerical values of into ranges (Sign_Duration)"
   ]
  },
  {
   "cell_type": "code",
   "execution_count": 51,
   "id": "7e0505af-3334-4d28-ad4f-763ae8b14096",
   "metadata": {},
   "outputs": [
    {
     "name": "stderr",
     "output_type": "stream",
     "text": [
      "/var/folders/v2/09vly0y934v7rq6zkxt1fwvr0000gn/T/ipykernel_26099/1471796543.py:3: SettingWithCopyWarning: \n",
      "A value is trying to be set on a copy of a slice from a DataFrame.\n",
      "Try using .loc[row_indexer,col_indexer] = value instead\n",
      "\n",
      "See the caveats in the documentation: https://pandas.pydata.org/pandas-docs/stable/user_guide/indexing.html#returning-a-view-versus-a-copy\n",
      "  sign_duration_rows['object'] = pd.to_numeric(sign_duration_rows['object'], errors='coerce')\n",
      "/var/folders/v2/09vly0y934v7rq6zkxt1fwvr0000gn/T/ipykernel_26099/1471796543.py:4: SettingWithCopyWarning: \n",
      "A value is trying to be set on a copy of a slice from a DataFrame\n",
      "\n",
      "See the caveats in the documentation: https://pandas.pydata.org/pandas-docs/stable/user_guide/indexing.html#returning-a-view-versus-a-copy\n",
      "  sign_duration_rows.dropna(subset=['object'], inplace=True)\n",
      "/var/folders/v2/09vly0y934v7rq6zkxt1fwvr0000gn/T/ipykernel_26099/1471796543.py:5: SettingWithCopyWarning: \n",
      "A value is trying to be set on a copy of a slice from a DataFrame.\n",
      "Try using .loc[row_indexer,col_indexer] = value instead\n",
      "\n",
      "See the caveats in the documentation: https://pandas.pydata.org/pandas-docs/stable/user_guide/indexing.html#returning-a-view-versus-a-copy\n",
      "  sign_duration_rows['object'] = (sign_duration_rows['object'] // 100) * 100\n",
      "/var/folders/v2/09vly0y934v7rq6zkxt1fwvr0000gn/T/ipykernel_26099/1471796543.py:6: SettingWithCopyWarning: \n",
      "A value is trying to be set on a copy of a slice from a DataFrame.\n",
      "Try using .loc[row_indexer,col_indexer] = value instead\n",
      "\n",
      "See the caveats in the documentation: https://pandas.pydata.org/pandas-docs/stable/user_guide/indexing.html#returning-a-view-versus-a-copy\n",
      "  sign_duration_rows['object'] = sign_duration_rows['object'].astype(int).astype(str)\n"
     ]
    }
   ],
   "source": [
    "#for all sign duration values, round down to nearest 100 to get a 'range'\n",
    "sign_duration_rows = filteredEdges[filteredEdges['relation'] == 'Sign_Duration']\n",
    "sign_duration_rows['object'] = pd.to_numeric(sign_duration_rows['object'], errors='coerce')\n",
    "sign_duration_rows.dropna(subset=['object'], inplace=True)\n",
    "sign_duration_rows['object'] = (sign_duration_rows['object'] // 100) * 100\n",
    "sign_duration_rows['object'] = sign_duration_rows['object'].astype(int).astype(str)\n",
    "filteredEdges.loc[sign_duration_rows.index, 'object'] = sign_duration_rows['object']"
   ]
  },
  {
   "cell_type": "markdown",
   "id": "721719f1-8c7c-4359-bbbb-9e66105cc277",
   "metadata": {},
   "source": [
    "Keep only the columns I want"
   ]
  },
  {
   "cell_type": "code",
   "execution_count": 54,
   "id": "8a48023e-d644-45dd-862d-35a8f248c18b",
   "metadata": {},
   "outputs": [],
   "source": [
    "filteredEdges = filteredEdges.loc[:, ['subject', 'relation', 'object']]"
   ]
  },
  {
   "cell_type": "code",
   "execution_count": 56,
   "id": "63d7e1f5-627d-4a6d-9171-059c47c8cb43",
   "metadata": {},
   "outputs": [],
   "source": [
    "filteredEdges\n",
    "filteredEdges.to_csv('filteredEdges.csv', index=False)"
   ]
  },
  {
   "cell_type": "code",
   "execution_count": 58,
   "id": "bdc4efe9-6f91-42fc-b639-72a95c9acbe1",
   "metadata": {},
   "outputs": [],
   "source": [
    "filtered_cols_keywords = {}\n",
    "\n",
    "for column in columns: \n",
    "    set_objs = set(filteredEdges[filteredEdges['relation'] == column]['object'])\n",
    "    filtered_cols_keywords[column] = set_objs"
   ]
  },
  {
   "cell_type": "code",
   "execution_count": 65,
   "id": "fd781d20-8171-4146-abcd-7295377b38ad",
   "metadata": {
    "scrolled": true
   },
   "outputs": [],
   "source": [
    "filtered_cols_keywords\n",
    "np.save('filtered_edges_dict.npy', filtered_cols_keywords) "
   ]
  },
  {
   "cell_type": "code",
   "execution_count": 76,
   "id": "66f348b9-ca33-400f-8cb5-c2ec6ed52a8c",
   "metadata": {},
   "outputs": [],
   "source": [
    "keywords_df = pd.DataFrame.from_dict(filtered_cols_keywords, orient='index')\n",
    "keywords_df.to_csv('keywords_df.csv', index=True, index_label='relation')"
   ]
  },
  {
   "cell_type": "markdown",
   "id": "f6ff29d6-3756-4959-b491-9c7c0ee79479",
   "metadata": {},
   "source": [
    "#### Model"
   ]
  },
  {
   "cell_type": "markdown",
   "id": "7a1aee1e-0d2c-45e8-b925-576055680381",
   "metadata": {},
   "source": [
    "##### Recieve a list of phonological features"
   ]
  },
  {
   "cell_type": "markdown",
   "id": "cd91c4ec-59c4-447b-a3dc-f00f99b7a30e",
   "metadata": {},
   "source": [
    "##### For each sign, get a set of signs at which that relation = true"
   ]
  },
  {
   "cell_type": "markdown",
   "id": "b6954174-7548-44a5-9b13-c39e85e24530",
   "metadata": {},
   "source": [
    "##### Get an ordered list of signs with descending # of keyword matches"
   ]
  },
  {
   "cell_type": "markdown",
   "id": "46381686-0467-4fd7-bc0b-db551ae9866e",
   "metadata": {},
   "source": [
    "##### Get & display gloss and #matches for top n signs"
   ]
  }
 ],
 "metadata": {
  "kernelspec": {
   "display_name": "Python 3 (ipykernel)",
   "language": "python",
   "name": "python3"
  },
  "language_info": {
   "codemirror_mode": {
    "name": "ipython",
    "version": 3
   },
   "file_extension": ".py",
   "mimetype": "text/x-python",
   "name": "python",
   "nbconvert_exporter": "python",
   "pygments_lexer": "ipython3",
   "version": "3.12.2"
  }
 },
 "nbformat": 4,
 "nbformat_minor": 5
}
