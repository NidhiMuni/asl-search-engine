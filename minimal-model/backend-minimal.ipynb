{
 "cells": [
  {
   "cell_type": "markdown",
   "id": "a5b98f4b-0745-49df-8f47-4f806490e6c7",
   "metadata": {},
   "source": [
    "#### Setup + Prepare Data"
   ]
  },
  {
   "cell_type": "code",
   "execution_count": 1,
   "id": "c29e4614-8039-47ea-a3b3-d8acd4201087",
   "metadata": {},
   "outputs": [
    {
     "name": "stderr",
     "output_type": "stream",
     "text": [
      "/var/folders/v2/09vly0y934v7rq6zkxt1fwvr0000gn/T/ipykernel_39782/1778872367.py:3: DeprecationWarning: \n",
      "Pyarrow will become a required dependency of pandas in the next major release of pandas (pandas 3.0),\n",
      "(to allow more performant data types, such as the Arrow string type, and better interoperability with other libraries)\n",
      "but was not found to be installed on your system.\n",
      "If this would cause problems for you,\n",
      "please provide us feedback at https://github.com/pandas-dev/pandas/issues/54466\n",
      "        \n",
      "  import pandas as pd\n",
      "/var/folders/v2/09vly0y934v7rq6zkxt1fwvr0000gn/T/ipykernel_39782/1778872367.py:5: DtypeWarning: Columns (0) have mixed types. Specify dtype option on import or set low_memory=False.\n",
      "  edges = pd.read_csv('edges.tsv', sep='\\t')\n"
     ]
    }
   ],
   "source": [
    "# Setup \n",
    "# !pip3 install pandas\n",
    "import pandas as pd\n",
    "import numpy as np\n",
    "edges = pd.read_csv('edges.tsv', sep='\\t')\n",
    "nodes = pd.read_csv('nodes.tsv', sep='\\t')"
   ]
  },
  {
   "cell_type": "markdown",
   "id": "f93b298e-4269-421d-a9dd-621d8c5209ea",
   "metadata": {},
   "source": [
    "Get a map of relations we want and possible objects (get a edges file we specifically want?)"
   ]
  },
  {
   "cell_type": "code",
   "execution_count": 84,
   "id": "fdcd32fd-0fcf-46b7-88ed-0abc212cef80",
   "metadata": {},
   "outputs": [],
   "source": [
    "columns = [\n",
    "    'Contact', 'Dominant_end_handshape', 'Dominant_start_handshape',\n",
    "    'Flexion', 'Flexion_Change', 'Handshape', 'Location', 'Major_Location',\n",
    "    'Minor_Location', 'Nondominant_Handshape', 'Path_Movement',\n",
    "    'Repeated_Movement', 'Second_Minor_Location', 'Selected_Fingers',\n",
    "    'Sign_Duration', 'Sign_Type', 'Spread', 'Spread_Change',\n",
    "    'Thumb_Contact', 'Thumb_Position', 'Wrist_Twist', 'sign_type'\n",
    "]"
   ]
  },
  {
   "cell_type": "code",
   "execution_count": 85,
   "id": "226f82d8-097c-4a81-a933-7c6467e47366",
   "metadata": {
    "scrolled": true
   },
   "outputs": [],
   "source": [
    "cols_keywords = {}\n",
    "\n",
    "for column in columns: \n",
    "    set_objs = set(edges[edges['relation'] == column]['object'])\n",
    "    cols_keywords[column] = set_objs\n",
    "   \n",
    "# print(cols_keywords)"
   ]
  },
  {
   "cell_type": "markdown",
   "id": "c681c656-1886-439b-85da-bbac92142d90",
   "metadata": {},
   "source": [
    "Update edges file"
   ]
  },
  {
   "cell_type": "code",
   "execution_count": 86,
   "id": "159f3eb3-2654-49d4-b57c-5f2ab572259e",
   "metadata": {},
   "outputs": [],
   "source": [
    "filteredEdges = edges[edges[\"relation\"].isin(columns)]"
   ]
  },
  {
   "cell_type": "markdown",
   "id": "216b9c59-4452-41eb-8826-0fcbcb89566f",
   "metadata": {},
   "source": [
    "change 1s and 0s to true and false"
   ]
  },
  {
   "cell_type": "code",
   "execution_count": 87,
   "id": "78e594d0-6250-4ee0-8702-826a972d40cc",
   "metadata": {},
   "outputs": [],
   "source": [
    "filteredEdges.loc[(filteredEdges['object'] == '1.0') & \n",
    "                  (~filteredEdges['relation'].isin(['Handshape', 'Dominant_end_handshape', 'Dominant_start_handshape', 'Nondominant_Handshape'])), \n",
    "                  ['object']] = True\n",
    "filteredEdges.loc[(filteredEdges['object'] == '1') & \n",
    "                  (~filteredEdges['relation'].isin(['Handshape', 'Dominant_end_handshape', 'Dominant_start_handshape', 'Nondominant_Handshape'])), \n",
    "                  ['object']] = True\n",
    "filteredEdges.loc[(filteredEdges['object'] == '0.0') & \n",
    "                  (~filteredEdges['relation'].isin(['Handshape', 'Dominant_end_handshape', 'Dominant_start_handshape', 'Nondominant_Handshape'])), \n",
    "                  ['object']] = False\n",
    "filteredEdges.loc[(filteredEdges['object'] == '0') & \n",
    "                  (~filteredEdges['relation'].isin(['Handshape', 'Dominant_end_handshape', 'Dominant_start_handshape', 'Nondominant_Handshape'])), \n",
    "                  ['object']] = False"
   ]
  },
  {
   "cell_type": "markdown",
   "id": "93b76de4-ec14-4168-8845-1f55cf94ebed",
   "metadata": {},
   "source": [
    "change the numerical values of into ranges (Sign_Duration)"
   ]
  },
  {
   "cell_type": "code",
   "execution_count": 88,
   "id": "7e0505af-3334-4d28-ad4f-763ae8b14096",
   "metadata": {},
   "outputs": [
    {
     "name": "stderr",
     "output_type": "stream",
     "text": [
      "/var/folders/v2/09vly0y934v7rq6zkxt1fwvr0000gn/T/ipykernel_26099/1471796543.py:3: SettingWithCopyWarning: \n",
      "A value is trying to be set on a copy of a slice from a DataFrame.\n",
      "Try using .loc[row_indexer,col_indexer] = value instead\n",
      "\n",
      "See the caveats in the documentation: https://pandas.pydata.org/pandas-docs/stable/user_guide/indexing.html#returning-a-view-versus-a-copy\n",
      "  sign_duration_rows['object'] = pd.to_numeric(sign_duration_rows['object'], errors='coerce')\n",
      "/var/folders/v2/09vly0y934v7rq6zkxt1fwvr0000gn/T/ipykernel_26099/1471796543.py:4: SettingWithCopyWarning: \n",
      "A value is trying to be set on a copy of a slice from a DataFrame\n",
      "\n",
      "See the caveats in the documentation: https://pandas.pydata.org/pandas-docs/stable/user_guide/indexing.html#returning-a-view-versus-a-copy\n",
      "  sign_duration_rows.dropna(subset=['object'], inplace=True)\n",
      "/var/folders/v2/09vly0y934v7rq6zkxt1fwvr0000gn/T/ipykernel_26099/1471796543.py:5: SettingWithCopyWarning: \n",
      "A value is trying to be set on a copy of a slice from a DataFrame.\n",
      "Try using .loc[row_indexer,col_indexer] = value instead\n",
      "\n",
      "See the caveats in the documentation: https://pandas.pydata.org/pandas-docs/stable/user_guide/indexing.html#returning-a-view-versus-a-copy\n",
      "  sign_duration_rows['object'] = (sign_duration_rows['object'] // 100) * 100\n",
      "/var/folders/v2/09vly0y934v7rq6zkxt1fwvr0000gn/T/ipykernel_26099/1471796543.py:6: SettingWithCopyWarning: \n",
      "A value is trying to be set on a copy of a slice from a DataFrame.\n",
      "Try using .loc[row_indexer,col_indexer] = value instead\n",
      "\n",
      "See the caveats in the documentation: https://pandas.pydata.org/pandas-docs/stable/user_guide/indexing.html#returning-a-view-versus-a-copy\n",
      "  sign_duration_rows['object'] = sign_duration_rows['object'].astype(int).astype(str)\n"
     ]
    }
   ],
   "source": [
    "#for all sign duration values, round down to nearest 100 to get a 'range'\n",
    "sign_duration_rows = filteredEdges[filteredEdges['relation'] == 'Sign_Duration']\n",
    "sign_duration_rows['object'] = pd.to_numeric(sign_duration_rows['object'], errors='coerce')\n",
    "sign_duration_rows.dropna(subset=['object'], inplace=True)\n",
    "sign_duration_rows['object'] = (sign_duration_rows['object'] // 100) * 100\n",
    "sign_duration_rows['object'] = sign_duration_rows['object'].astype(int).astype(str)\n",
    "filteredEdges.loc[sign_duration_rows.index, 'object'] = sign_duration_rows['object']"
   ]
  },
  {
   "cell_type": "markdown",
   "id": "721719f1-8c7c-4359-bbbb-9e66105cc277",
   "metadata": {},
   "source": [
    "Keep only the columns I want"
   ]
  },
  {
   "cell_type": "code",
   "execution_count": 89,
   "id": "8a48023e-d644-45dd-862d-35a8f248c18b",
   "metadata": {},
   "outputs": [],
   "source": [
    "filteredEdges = filteredEdges.loc[:, ['subject', 'relation', 'object']]"
   ]
  },
  {
   "cell_type": "code",
   "execution_count": 90,
   "id": "9b5d11e4-dfa7-4418-a6ed-26b580159224",
   "metadata": {},
   "outputs": [],
   "source": [
    "filteredEdges['subject_count'] = filteredEdges.groupby('subject')['subject'].transform('count')"
   ]
  },
  {
   "cell_type": "code",
   "execution_count": 91,
   "id": "63d7e1f5-627d-4a6d-9171-059c47c8cb43",
   "metadata": {},
   "outputs": [],
   "source": [
    "filteredEdges\n",
    "filteredEdges.to_csv('filteredEdges.csv', index=False)"
   ]
  },
  {
   "cell_type": "code",
   "execution_count": 92,
   "id": "bdc4efe9-6f91-42fc-b639-72a95c9acbe1",
   "metadata": {},
   "outputs": [],
   "source": [
    "filtered_cols_keywords = {}\n",
    "\n",
    "for column in columns: \n",
    "    set_objs = set(filteredEdges[filteredEdges['relation'] == column]['object'])\n",
    "    filtered_cols_keywords[column] = set_objs"
   ]
  },
  {
   "cell_type": "code",
   "execution_count": 93,
   "id": "fd781d20-8171-4146-abcd-7295377b38ad",
   "metadata": {
    "scrolled": true
   },
   "outputs": [],
   "source": [
    "filtered_cols_keywords\n",
    "np.save('filtered_edges_dict.npy', filtered_cols_keywords) "
   ]
  },
  {
   "cell_type": "code",
   "execution_count": 94,
   "id": "66f348b9-ca33-400f-8cb5-c2ec6ed52a8c",
   "metadata": {},
   "outputs": [],
   "source": [
    "keywords_df = pd.DataFrame.from_dict(filtered_cols_keywords, orient='index')\n",
    "keywords_df.to_csv('keywords_df.csv', index=True, index_label='relation')"
   ]
  },
  {
   "cell_type": "markdown",
   "id": "f6ff29d6-3756-4959-b491-9c7c0ee79479",
   "metadata": {},
   "source": [
    "#### Model"
   ]
  },
  {
   "cell_type": "markdown",
   "id": "7a1aee1e-0d2c-45e8-b925-576055680381",
   "metadata": {},
   "source": [
    "##### Recieve a list of phonological features"
   ]
  },
  {
   "cell_type": "code",
   "execution_count": 4,
   "id": "4dcd6dd7-946b-42ac-a07e-567a4b440d52",
   "metadata": {},
   "outputs": [
    {
     "name": "stderr",
     "output_type": "stream",
     "text": [
      "/var/folders/v2/09vly0y934v7rq6zkxt1fwvr0000gn/T/ipykernel_12378/4080736814.py:1: DeprecationWarning: \n",
      "Pyarrow will become a required dependency of pandas in the next major release of pandas (pandas 3.0),\n",
      "(to allow more performant data types, such as the Arrow string type, and better interoperability with other libraries)\n",
      "but was not found to be installed on your system.\n",
      "If this would cause problems for you,\n",
      "please provide us feedback at https://github.com/pandas-dev/pandas/issues/54466\n",
      "        \n",
      "  import pandas as pd\n"
     ]
    }
   ],
   "source": [
    "import pandas as pd"
   ]
  },
  {
   "cell_type": "code",
   "execution_count": 5,
   "id": "c36bd1a0-3b65-4b72-925e-ef55041a6491",
   "metadata": {},
   "outputs": [],
   "source": [
    "edges = pd.read_csv('filteredEdges.csv')"
   ]
  },
  {
   "cell_type": "code",
   "execution_count": 14,
   "id": "c6ef0d60-6f1b-4651-b63c-db24b9f982ec",
   "metadata": {},
   "outputs": [],
   "source": [
    "test_sample = edges[edges['subject'] == 'TV']"
   ]
  },
  {
   "cell_type": "code",
   "execution_count": 20,
   "id": "a9707c39-7f4f-44c5-8e37-bee0ba40fb6a",
   "metadata": {},
   "outputs": [],
   "source": [
    "selected_keywords = []\n",
    "for index, row in test_sample.iterrows():\n",
    "    selected_keywords.append({'selected_relation': row['relation'], 'selected_object': row['object']})\n"
   ]
  },
  {
   "cell_type": "code",
   "execution_count": 21,
   "id": "a26c6d7e-ad48-4702-a32a-af2a126e3d8d",
   "metadata": {},
   "outputs": [
    {
     "data": {
      "text/plain": [
       "[{'selected_relation': 'Sign_Duration', 'selected_object': '500'},\n",
       " {'selected_relation': 'Handshape', 'selected_object': 'baby_o'},\n",
       " {'selected_relation': 'Selected_Fingers', 'selected_object': 'i'},\n",
       " {'selected_relation': 'Flexion', 'selected_object': 'bent'},\n",
       " {'selected_relation': 'Thumb_Position', 'selected_object': 'open'},\n",
       " {'selected_relation': 'Thumb_Contact', 'selected_object': 'True'},\n",
       " {'selected_relation': 'Sign_Type', 'selected_object': 'one handed'},\n",
       " {'selected_relation': 'Path_Movement', 'selected_object': 'none'},\n",
       " {'selected_relation': 'Repeated_Movement', 'selected_object': 'False'},\n",
       " {'selected_relation': 'Major_Location', 'selected_object': 'neutral'},\n",
       " {'selected_relation': 'Minor_Location', 'selected_object': 'neutral'},\n",
       " {'selected_relation': 'Contact', 'selected_object': 'False'},\n",
       " {'selected_relation': 'Wrist_Twist', 'selected_object': 'False'}]"
      ]
     },
     "execution_count": 21,
     "metadata": {},
     "output_type": "execute_result"
    }
   ],
   "source": [
    "selected_keywords"
   ]
  },
  {
   "cell_type": "markdown",
   "id": "cd91c4ec-59c4-447b-a3dc-f00f99b7a30e",
   "metadata": {},
   "source": [
    "##### For each sign, get a set of signs at which that relation = true"
   ]
  },
  {
   "cell_type": "code",
   "execution_count": 33,
   "id": "0b3639e5-e9c7-4599-887f-072c205def62",
   "metadata": {},
   "outputs": [
    {
     "name": "stderr",
     "output_type": "stream",
     "text": [
      "/var/folders/v2/09vly0y934v7rq6zkxt1fwvr0000gn/T/ipykernel_12378/708101150.py:7: UserWarning: Boolean Series key will be reindexed to match DataFrame index.\n",
      "  signsWithThose = edges[edges['relation'] == thisRelation][edges['object'] == thisObject]\n",
      "/var/folders/v2/09vly0y934v7rq6zkxt1fwvr0000gn/T/ipykernel_12378/708101150.py:7: UserWarning: Boolean Series key will be reindexed to match DataFrame index.\n",
      "  signsWithThose = edges[edges['relation'] == thisRelation][edges['object'] == thisObject]\n",
      "/var/folders/v2/09vly0y934v7rq6zkxt1fwvr0000gn/T/ipykernel_12378/708101150.py:7: UserWarning: Boolean Series key will be reindexed to match DataFrame index.\n",
      "  signsWithThose = edges[edges['relation'] == thisRelation][edges['object'] == thisObject]\n",
      "/var/folders/v2/09vly0y934v7rq6zkxt1fwvr0000gn/T/ipykernel_12378/708101150.py:7: UserWarning: Boolean Series key will be reindexed to match DataFrame index.\n",
      "  signsWithThose = edges[edges['relation'] == thisRelation][edges['object'] == thisObject]\n",
      "/var/folders/v2/09vly0y934v7rq6zkxt1fwvr0000gn/T/ipykernel_12378/708101150.py:7: UserWarning: Boolean Series key will be reindexed to match DataFrame index.\n",
      "  signsWithThose = edges[edges['relation'] == thisRelation][edges['object'] == thisObject]\n",
      "/var/folders/v2/09vly0y934v7rq6zkxt1fwvr0000gn/T/ipykernel_12378/708101150.py:7: UserWarning: Boolean Series key will be reindexed to match DataFrame index.\n",
      "  signsWithThose = edges[edges['relation'] == thisRelation][edges['object'] == thisObject]\n",
      "/var/folders/v2/09vly0y934v7rq6zkxt1fwvr0000gn/T/ipykernel_12378/708101150.py:7: UserWarning: Boolean Series key will be reindexed to match DataFrame index.\n",
      "  signsWithThose = edges[edges['relation'] == thisRelation][edges['object'] == thisObject]\n",
      "/var/folders/v2/09vly0y934v7rq6zkxt1fwvr0000gn/T/ipykernel_12378/708101150.py:7: UserWarning: Boolean Series key will be reindexed to match DataFrame index.\n",
      "  signsWithThose = edges[edges['relation'] == thisRelation][edges['object'] == thisObject]\n",
      "/var/folders/v2/09vly0y934v7rq6zkxt1fwvr0000gn/T/ipykernel_12378/708101150.py:7: UserWarning: Boolean Series key will be reindexed to match DataFrame index.\n",
      "  signsWithThose = edges[edges['relation'] == thisRelation][edges['object'] == thisObject]\n",
      "/var/folders/v2/09vly0y934v7rq6zkxt1fwvr0000gn/T/ipykernel_12378/708101150.py:7: UserWarning: Boolean Series key will be reindexed to match DataFrame index.\n",
      "  signsWithThose = edges[edges['relation'] == thisRelation][edges['object'] == thisObject]\n",
      "/var/folders/v2/09vly0y934v7rq6zkxt1fwvr0000gn/T/ipykernel_12378/708101150.py:7: UserWarning: Boolean Series key will be reindexed to match DataFrame index.\n",
      "  signsWithThose = edges[edges['relation'] == thisRelation][edges['object'] == thisObject]\n",
      "/var/folders/v2/09vly0y934v7rq6zkxt1fwvr0000gn/T/ipykernel_12378/708101150.py:7: UserWarning: Boolean Series key will be reindexed to match DataFrame index.\n",
      "  signsWithThose = edges[edges['relation'] == thisRelation][edges['object'] == thisObject]\n",
      "/var/folders/v2/09vly0y934v7rq6zkxt1fwvr0000gn/T/ipykernel_12378/708101150.py:7: UserWarning: Boolean Series key will be reindexed to match DataFrame index.\n",
      "  signsWithThose = edges[edges['relation'] == thisRelation][edges['object'] == thisObject]\n"
     ]
    }
   ],
   "source": [
    "setOfSigns = pd.DataFrame()\n",
    "toConcat = []\n",
    "\n",
    "for i, row in enumerate(selected_keywords):\n",
    "    thisRelation = row['selected_relation']\n",
    "    thisObject = row['selected_object']\n",
    "    signsWithThose = edges[edges['relation'] == thisRelation][edges['object'] == thisObject]\n",
    "    toConcat.append(signsWithThose)\n",
    "\n",
    "setOfSigns = pd.concat(toConcat, ignore_index=True)"
   ]
  },
  {
   "cell_type": "code",
   "execution_count": 35,
   "id": "2852b9a0-f52d-4d54-ba3b-56d030c96152",
   "metadata": {},
   "outputs": [],
   "source": [
    "counts = setOfSigns['subject'].value_counts()\n",
    "setOfSigns['repeat_count'] = setOfSigns['subject'].map(counts)"
   ]
  },
  {
   "cell_type": "code",
   "execution_count": 37,
   "id": "c1c45c11-cbf4-4819-9779-73e095f5933c",
   "metadata": {},
   "outputs": [],
   "source": [
    "setOfSigns['match_proportion'] = setOfSigns['repeat_count'] / setOfSigns['subject_count']"
   ]
  },
  {
   "cell_type": "code",
   "execution_count": 38,
   "id": "23e2fc7a-3015-4bb8-88fe-a9b5d451236e",
   "metadata": {},
   "outputs": [
    {
     "data": {
      "text/html": [
       "<div>\n",
       "<style scoped>\n",
       "    .dataframe tbody tr th:only-of-type {\n",
       "        vertical-align: middle;\n",
       "    }\n",
       "\n",
       "    .dataframe tbody tr th {\n",
       "        vertical-align: top;\n",
       "    }\n",
       "\n",
       "    .dataframe thead th {\n",
       "        text-align: right;\n",
       "    }\n",
       "</style>\n",
       "<table border=\"1\" class=\"dataframe\">\n",
       "  <thead>\n",
       "    <tr style=\"text-align: right;\">\n",
       "      <th></th>\n",
       "      <th>subject</th>\n",
       "      <th>relation</th>\n",
       "      <th>object</th>\n",
       "      <th>subject_count</th>\n",
       "      <th>repeat_count</th>\n",
       "      <th>match_proportion</th>\n",
       "    </tr>\n",
       "  </thead>\n",
       "  <tbody>\n",
       "    <tr>\n",
       "      <th>0</th>\n",
       "      <td>these</td>\n",
       "      <td>Sign_Duration</td>\n",
       "      <td>500</td>\n",
       "      <td>27</td>\n",
       "      <td>12</td>\n",
       "      <td>0.444444</td>\n",
       "    </tr>\n",
       "    <tr>\n",
       "      <th>1</th>\n",
       "      <td>book</td>\n",
       "      <td>Sign_Duration</td>\n",
       "      <td>500</td>\n",
       "      <td>30</td>\n",
       "      <td>5</td>\n",
       "      <td>0.166667</td>\n",
       "    </tr>\n",
       "    <tr>\n",
       "      <th>2</th>\n",
       "      <td>apple</td>\n",
       "      <td>Sign_Duration</td>\n",
       "      <td>500</td>\n",
       "      <td>26</td>\n",
       "      <td>6</td>\n",
       "      <td>0.230769</td>\n",
       "    </tr>\n",
       "    <tr>\n",
       "      <th>3</th>\n",
       "      <td>must</td>\n",
       "      <td>Sign_Duration</td>\n",
       "      <td>500</td>\n",
       "      <td>25</td>\n",
       "      <td>13</td>\n",
       "      <td>0.520000</td>\n",
       "    </tr>\n",
       "    <tr>\n",
       "      <th>4</th>\n",
       "      <td>milk</td>\n",
       "      <td>Sign_Duration</td>\n",
       "      <td>500</td>\n",
       "      <td>27</td>\n",
       "      <td>13</td>\n",
       "      <td>0.481481</td>\n",
       "    </tr>\n",
       "    <tr>\n",
       "      <th>...</th>\n",
       "      <td>...</td>\n",
       "      <td>...</td>\n",
       "      <td>...</td>\n",
       "      <td>...</td>\n",
       "      <td>...</td>\n",
       "      <td>...</td>\n",
       "    </tr>\n",
       "    <tr>\n",
       "      <th>18053</th>\n",
       "      <td>zero</td>\n",
       "      <td>Wrist_Twist</td>\n",
       "      <td>False</td>\n",
       "      <td>29</td>\n",
       "      <td>12</td>\n",
       "      <td>0.413793</td>\n",
       "    </tr>\n",
       "    <tr>\n",
       "      <th>18054</th>\n",
       "      <td>zipper</td>\n",
       "      <td>Wrist_Twist</td>\n",
       "      <td>False</td>\n",
       "      <td>26</td>\n",
       "      <td>10</td>\n",
       "      <td>0.384615</td>\n",
       "    </tr>\n",
       "    <tr>\n",
       "      <th>18055</th>\n",
       "      <td>zoo</td>\n",
       "      <td>Wrist_Twist</td>\n",
       "      <td>False</td>\n",
       "      <td>20</td>\n",
       "      <td>10</td>\n",
       "      <td>0.500000</td>\n",
       "    </tr>\n",
       "    <tr>\n",
       "      <th>18056</th>\n",
       "      <td>zoom_in</td>\n",
       "      <td>Wrist_Twist</td>\n",
       "      <td>False</td>\n",
       "      <td>22</td>\n",
       "      <td>12</td>\n",
       "      <td>0.545455</td>\n",
       "    </tr>\n",
       "    <tr>\n",
       "      <th>18057</th>\n",
       "      <td>zoom_off</td>\n",
       "      <td>Wrist_Twist</td>\n",
       "      <td>False</td>\n",
       "      <td>22</td>\n",
       "      <td>10</td>\n",
       "      <td>0.454545</td>\n",
       "    </tr>\n",
       "  </tbody>\n",
       "</table>\n",
       "<p>18058 rows × 6 columns</p>\n",
       "</div>"
      ],
      "text/plain": [
       "        subject       relation object  subject_count  repeat_count  \\\n",
       "0         these  Sign_Duration    500             27            12   \n",
       "1          book  Sign_Duration    500             30             5   \n",
       "2         apple  Sign_Duration    500             26             6   \n",
       "3          must  Sign_Duration    500             25            13   \n",
       "4          milk  Sign_Duration    500             27            13   \n",
       "...         ...            ...    ...            ...           ...   \n",
       "18053      zero    Wrist_Twist  False             29            12   \n",
       "18054    zipper    Wrist_Twist  False             26            10   \n",
       "18055       zoo    Wrist_Twist  False             20            10   \n",
       "18056   zoom_in    Wrist_Twist  False             22            12   \n",
       "18057  zoom_off    Wrist_Twist  False             22            10   \n",
       "\n",
       "       match_proportion  \n",
       "0              0.444444  \n",
       "1              0.166667  \n",
       "2              0.230769  \n",
       "3              0.520000  \n",
       "4              0.481481  \n",
       "...                 ...  \n",
       "18053          0.413793  \n",
       "18054          0.384615  \n",
       "18055          0.500000  \n",
       "18056          0.545455  \n",
       "18057          0.454545  \n",
       "\n",
       "[18058 rows x 6 columns]"
      ]
     },
     "execution_count": 38,
     "metadata": {},
     "output_type": "execute_result"
    }
   ],
   "source": [
    "setOfSigns"
   ]
  },
  {
   "cell_type": "code",
   "execution_count": 46,
   "id": "e0db2583-8128-49d8-8e7a-904a9ae17c86",
   "metadata": {},
   "outputs": [],
   "source": [
    "import numpy as np\n"
   ]
  },
  {
   "cell_type": "code",
   "execution_count": 47,
   "id": "7d8e5875-ced7-4b32-a34d-7ceb7682d039",
   "metadata": {},
   "outputs": [],
   "source": [
    "max_index = np.argmax(setOfSigns['match_proportion'].values)\n",
    "highest_ratio_row = setOfSigns.loc[max_index]"
   ]
  },
  {
   "cell_type": "code",
   "execution_count": 48,
   "id": "17847cab-789e-4669-9b26-f6a377660f01",
   "metadata": {},
   "outputs": [],
   "source": [
    "predicted_subject = highest_ratio_row['subject']"
   ]
  },
  {
   "cell_type": "code",
   "execution_count": 50,
   "id": "fa6e6f1a-cec3-4ad0-9f47-c454aa90ac6f",
   "metadata": {},
   "outputs": [
    {
     "data": {
      "text/plain": [
       "'tv'"
      ]
     },
     "execution_count": 50,
     "metadata": {},
     "output_type": "execute_result"
    }
   ],
   "source": [
    "predicted_subject"
   ]
  },
  {
   "cell_type": "code",
   "execution_count": 49,
   "id": "23cfc1c9-78ef-45a5-98f0-c1058b61d0c7",
   "metadata": {},
   "outputs": [
    {
     "data": {
      "text/plain": [
       "{'#5–c',\n",
       " '#5–c–l',\n",
       " '1',\n",
       " '10',\n",
       " '25',\n",
       " '3',\n",
       " '4',\n",
       " '5',\n",
       " '6',\n",
       " '7',\n",
       " '8',\n",
       " 'a',\n",
       " 'alt–g_bent–l',\n",
       " 'b',\n",
       " 'baby–o',\n",
       " 'bent–1',\n",
       " 'bent–b',\n",
       " 'bent–b–l',\n",
       " 'bent–b–xd',\n",
       " 'bent–horns',\n",
       " 'bent–l',\n",
       " 'bent–m',\n",
       " 'bent–n',\n",
       " 'bent–u',\n",
       " 'bent–u–l',\n",
       " 'bent–v',\n",
       " 'b–l',\n",
       " 'b–xd',\n",
       " 'c',\n",
       " 'cocked–7.png',\n",
       " 'cocked–8',\n",
       " 'cocked–f',\n",
       " 'cocked–s',\n",
       " 'cocked–u',\n",
       " 'crvd–3',\n",
       " 'crvd–5',\n",
       " 'crvd–b',\n",
       " 'crvd–flat–b',\n",
       " 'crvd–l',\n",
       " 'crvd–sprd–b',\n",
       " 'crvd–u',\n",
       " 'crvd–v',\n",
       " 'crvd–w',\n",
       " 'd',\n",
       " 'e',\n",
       " 'f',\n",
       " 'fanned–flat–o',\n",
       " 'flat–b',\n",
       " 'flat–g',\n",
       " 'flat–o',\n",
       " 'flat–o_2',\n",
       " 'flat–o–2',\n",
       " 'full–m',\n",
       " 'g',\n",
       " 'horns',\n",
       " 'i',\n",
       " 'i_j',\n",
       " 'i–l–y',\n",
       " 'k',\n",
       " 'l',\n",
       " 'loose–e',\n",
       " 'l–x',\n",
       " 'm',\n",
       " 'n',\n",
       " 'o',\n",
       " 'open–7',\n",
       " 'open–8',\n",
       " 'open–f',\n",
       " 'o–2–horns',\n",
       " 'psv',\n",
       " 'r',\n",
       " 'r–l',\n",
       " 's',\n",
       " 'sml–c–3',\n",
       " 't',\n",
       " 'tight–c',\n",
       " 'tight–c–2',\n",
       " 'u',\n",
       " 'u–l',\n",
       " 'v',\n",
       " 'w',\n",
       " 'x',\n",
       " 'x–over–thumb',\n",
       " 'y'}"
      ]
     },
     "execution_count": 49,
     "metadata": {},
     "output_type": "execute_result"
    }
   ],
   "source": [
    "set(edges[edges['relation'] == 'Dominant_start_handshape']['object'])"
   ]
  },
  {
   "cell_type": "markdown",
   "id": "b6954174-7548-44a5-9b13-c39e85e24530",
   "metadata": {},
   "source": [
    "##### Get an ordered list of signs with descending # of keyword matches"
   ]
  },
  {
   "cell_type": "code",
   "execution_count": 52,
   "id": "163e2587-f098-4a0f-9377-590b9824e0ff",
   "metadata": {},
   "outputs": [
    {
     "data": {
      "text/html": [
       "<div>\n",
       "<style scoped>\n",
       "    .dataframe tbody tr th:only-of-type {\n",
       "        vertical-align: middle;\n",
       "    }\n",
       "\n",
       "    .dataframe tbody tr th {\n",
       "        vertical-align: top;\n",
       "    }\n",
       "\n",
       "    .dataframe thead th {\n",
       "        text-align: right;\n",
       "    }\n",
       "</style>\n",
       "<table border=\"1\" class=\"dataframe\">\n",
       "  <thead>\n",
       "    <tr style=\"text-align: right;\">\n",
       "      <th></th>\n",
       "      <th>subject</th>\n",
       "      <th>relation</th>\n",
       "      <th>object</th>\n",
       "      <th>subject_count</th>\n",
       "    </tr>\n",
       "  </thead>\n",
       "  <tbody>\n",
       "    <tr>\n",
       "      <th>295</th>\n",
       "      <td>jaw</td>\n",
       "      <td>Dominant_start_handshape</td>\n",
       "      <td>g</td>\n",
       "      <td>5</td>\n",
       "    </tr>\n",
       "    <tr>\n",
       "      <th>296</th>\n",
       "      <td>jaw</td>\n",
       "      <td>Dominant_end_handshape</td>\n",
       "      <td>g</td>\n",
       "      <td>5</td>\n",
       "    </tr>\n",
       "    <tr>\n",
       "      <th>297</th>\n",
       "      <td>jaw</td>\n",
       "      <td>sign_type</td>\n",
       "      <td>lexical signs</td>\n",
       "      <td>5</td>\n",
       "    </tr>\n",
       "    <tr>\n",
       "      <th>298</th>\n",
       "      <td>jaw</td>\n",
       "      <td>Dominant_start_handshape</td>\n",
       "      <td>1</td>\n",
       "      <td>5</td>\n",
       "    </tr>\n",
       "    <tr>\n",
       "      <th>299</th>\n",
       "      <td>jaw</td>\n",
       "      <td>Dominant_end_handshape</td>\n",
       "      <td>1</td>\n",
       "      <td>5</td>\n",
       "    </tr>\n",
       "    <tr>\n",
       "      <th>...</th>\n",
       "      <td>...</td>\n",
       "      <td>...</td>\n",
       "      <td>...</td>\n",
       "      <td>...</td>\n",
       "    </tr>\n",
       "    <tr>\n",
       "      <th>28444</th>\n",
       "      <td>#dog</td>\n",
       "      <td>Dominant_start_handshape</td>\n",
       "      <td>d</td>\n",
       "      <td>5</td>\n",
       "    </tr>\n",
       "    <tr>\n",
       "      <th>28445</th>\n",
       "      <td>#dog</td>\n",
       "      <td>Dominant_end_handshape</td>\n",
       "      <td>flat–g</td>\n",
       "      <td>5</td>\n",
       "    </tr>\n",
       "    <tr>\n",
       "      <th>28446</th>\n",
       "      <td>#dog</td>\n",
       "      <td>sign_type</td>\n",
       "      <td>loan signs</td>\n",
       "      <td>5</td>\n",
       "    </tr>\n",
       "    <tr>\n",
       "      <th>28447</th>\n",
       "      <td>#dog</td>\n",
       "      <td>Dominant_end_handshape</td>\n",
       "      <td>g</td>\n",
       "      <td>5</td>\n",
       "    </tr>\n",
       "    <tr>\n",
       "      <th>28448</th>\n",
       "      <td>#dog</td>\n",
       "      <td>sign_type</td>\n",
       "      <td>loan signs</td>\n",
       "      <td>5</td>\n",
       "    </tr>\n",
       "  </tbody>\n",
       "</table>\n",
       "<p>585 rows × 4 columns</p>\n",
       "</div>"
      ],
      "text/plain": [
       "      subject                  relation         object  subject_count\n",
       "295       jaw  Dominant_start_handshape              g              5\n",
       "296       jaw    Dominant_end_handshape              g              5\n",
       "297       jaw                 sign_type  lexical signs              5\n",
       "298       jaw  Dominant_start_handshape              1              5\n",
       "299       jaw    Dominant_end_handshape              1              5\n",
       "...       ...                       ...            ...            ...\n",
       "28444    #dog  Dominant_start_handshape              d              5\n",
       "28445    #dog    Dominant_end_handshape         flat–g              5\n",
       "28446    #dog                 sign_type     loan signs              5\n",
       "28447    #dog    Dominant_end_handshape              g              5\n",
       "28448    #dog                 sign_type     loan signs              5\n",
       "\n",
       "[585 rows x 4 columns]"
      ]
     },
     "execution_count": 52,
     "metadata": {},
     "output_type": "execute_result"
    }
   ],
   "source": [
    "another_test_sample = edges[edges['subject_count'] == 5]\n",
    "another_test_sample"
   ]
  },
  {
   "cell_type": "markdown",
   "id": "46381686-0467-4fd7-bc0b-db551ae9866e",
   "metadata": {},
   "source": [
    "##### Get & display gloss and #matches for top n signs"
   ]
  },
  {
   "cell_type": "code",
   "execution_count": 63,
   "id": "45c2fe00-8144-497a-8b7f-cad34d3e4da5",
   "metadata": {},
   "outputs": [],
   "source": [
    "edges = pd.read_csv('filteredEdges.csv')"
   ]
  },
  {
   "cell_type": "code",
   "execution_count": 57,
   "id": "c964e753-8d9b-4c8c-805d-dec5d02bddf5",
   "metadata": {},
   "outputs": [],
   "source": [
    "signtyperows = edges[edges['relation'] == 'sign_type']\n",
    "edges.loc[edges['relation'] == 'sign_type', 'relation'] = 'Sign_Type'"
   ]
  },
  {
   "cell_type": "code",
   "execution_count": 62,
   "id": "cea59858-9600-40cd-a7f2-320bc5bca95e",
   "metadata": {},
   "outputs": [
    {
     "data": {
      "text/html": [
       "<div>\n",
       "<style scoped>\n",
       "    .dataframe tbody tr th:only-of-type {\n",
       "        vertical-align: middle;\n",
       "    }\n",
       "\n",
       "    .dataframe tbody tr th {\n",
       "        vertical-align: top;\n",
       "    }\n",
       "\n",
       "    .dataframe thead th {\n",
       "        text-align: right;\n",
       "    }\n",
       "</style>\n",
       "<table border=\"1\" class=\"dataframe\">\n",
       "  <thead>\n",
       "    <tr style=\"text-align: right;\">\n",
       "      <th></th>\n",
       "      <th>subject</th>\n",
       "      <th>relation</th>\n",
       "      <th>object</th>\n",
       "      <th>subject_count</th>\n",
       "    </tr>\n",
       "  </thead>\n",
       "  <tbody>\n",
       "  </tbody>\n",
       "</table>\n",
       "</div>"
      ],
      "text/plain": [
       "Empty DataFrame\n",
       "Columns: [subject, relation, object, subject_count]\n",
       "Index: []"
      ]
     },
     "execution_count": 62,
     "metadata": {},
     "output_type": "execute_result"
    }
   ],
   "source": [
    "edges[edges['relation'] == 'sign_type']\n"
   ]
  },
  {
   "cell_type": "code",
   "execution_count": 71,
   "id": "6364365f-40be-49c0-90d3-d7f7437192cf",
   "metadata": {},
   "outputs": [],
   "source": [
    "edges.to_csv('filteredEdges.csv', index=False)"
   ]
  },
  {
   "cell_type": "code",
   "execution_count": 65,
   "id": "9090ff2b-d2a3-449a-aa9d-3b8d6c7f0d00",
   "metadata": {},
   "outputs": [],
   "source": [
    "edges = edges.loc[:, ['subject', 'relation', 'object']]"
   ]
  },
  {
   "cell_type": "code",
   "execution_count": 67,
   "id": "6a61250a-f8b0-4af7-90c3-c2c5ed90fb00",
   "metadata": {},
   "outputs": [],
   "source": [
    "edges = edges.drop_duplicates()"
   ]
  },
  {
   "cell_type": "code",
   "execution_count": 68,
   "id": "78b2d37e-4e88-484b-903d-873482068e97",
   "metadata": {},
   "outputs": [
    {
     "data": {
      "text/html": [
       "<div>\n",
       "<style scoped>\n",
       "    .dataframe tbody tr th:only-of-type {\n",
       "        vertical-align: middle;\n",
       "    }\n",
       "\n",
       "    .dataframe tbody tr th {\n",
       "        vertical-align: top;\n",
       "    }\n",
       "\n",
       "    .dataframe thead th {\n",
       "        text-align: right;\n",
       "    }\n",
       "</style>\n",
       "<table border=\"1\" class=\"dataframe\">\n",
       "  <thead>\n",
       "    <tr style=\"text-align: right;\">\n",
       "      <th></th>\n",
       "      <th>subject</th>\n",
       "      <th>relation</th>\n",
       "      <th>object</th>\n",
       "    </tr>\n",
       "  </thead>\n",
       "  <tbody>\n",
       "    <tr>\n",
       "      <th>0</th>\n",
       "      <td>rocket</td>\n",
       "      <td>Dominant_start_handshape</td>\n",
       "      <td>r</td>\n",
       "    </tr>\n",
       "    <tr>\n",
       "      <th>1</th>\n",
       "      <td>rocket</td>\n",
       "      <td>Dominant_end_handshape</td>\n",
       "      <td>r</td>\n",
       "    </tr>\n",
       "    <tr>\n",
       "      <th>2</th>\n",
       "      <td>rocket</td>\n",
       "      <td>Sign_Type</td>\n",
       "      <td>lexical signs</td>\n",
       "    </tr>\n",
       "    <tr>\n",
       "      <th>3</th>\n",
       "      <td>think+(2h)pass–out_2</td>\n",
       "      <td>Dominant_start_handshape</td>\n",
       "      <td>1</td>\n",
       "    </tr>\n",
       "    <tr>\n",
       "      <th>4</th>\n",
       "      <td>think+(2h)pass–out_2</td>\n",
       "      <td>Dominant_end_handshape</td>\n",
       "      <td>a</td>\n",
       "    </tr>\n",
       "    <tr>\n",
       "      <th>...</th>\n",
       "      <td>...</td>\n",
       "      <td>...</td>\n",
       "      <td>...</td>\n",
       "    </tr>\n",
       "    <tr>\n",
       "      <th>75291</th>\n",
       "      <td>wave</td>\n",
       "      <td>Path_Movement</td>\n",
       "      <td>z-shaped</td>\n",
       "    </tr>\n",
       "    <tr>\n",
       "      <th>75334</th>\n",
       "      <td>weather</td>\n",
       "      <td>Path_Movement</td>\n",
       "      <td>z-shaped</td>\n",
       "    </tr>\n",
       "    <tr>\n",
       "      <th>75429</th>\n",
       "      <td>whale</td>\n",
       "      <td>Path_Movement</td>\n",
       "      <td>z-shaped</td>\n",
       "    </tr>\n",
       "    <tr>\n",
       "      <th>75883</th>\n",
       "      <td>write_on_wall</td>\n",
       "      <td>Path_Movement</td>\n",
       "      <td>z-shaped</td>\n",
       "    </tr>\n",
       "    <tr>\n",
       "      <th>76029</th>\n",
       "      <td>zoo</td>\n",
       "      <td>Path_Movement</td>\n",
       "      <td>z-shaped</td>\n",
       "    </tr>\n",
       "  </tbody>\n",
       "</table>\n",
       "<p>55832 rows × 3 columns</p>\n",
       "</div>"
      ],
      "text/plain": [
       "                    subject                  relation         object\n",
       "0                    rocket  Dominant_start_handshape              r\n",
       "1                    rocket    Dominant_end_handshape              r\n",
       "2                    rocket                 Sign_Type  lexical signs\n",
       "3      think+(2h)pass–out_2  Dominant_start_handshape              1\n",
       "4      think+(2h)pass–out_2    Dominant_end_handshape              a\n",
       "...                     ...                       ...            ...\n",
       "75291                  wave             Path_Movement       z-shaped\n",
       "75334               weather             Path_Movement       z-shaped\n",
       "75429                 whale             Path_Movement       z-shaped\n",
       "75883         write_on_wall             Path_Movement       z-shaped\n",
       "76029                   zoo             Path_Movement       z-shaped\n",
       "\n",
       "[55832 rows x 3 columns]"
      ]
     },
     "execution_count": 68,
     "metadata": {},
     "output_type": "execute_result"
    }
   ],
   "source": [
    "edges"
   ]
  },
  {
   "cell_type": "code",
   "execution_count": 69,
   "id": "ffb8c16e-dc1f-4a6d-9bf5-63fd2cf4d089",
   "metadata": {},
   "outputs": [
    {
     "name": "stderr",
     "output_type": "stream",
     "text": [
      "/var/folders/v2/09vly0y934v7rq6zkxt1fwvr0000gn/T/ipykernel_12378/828008414.py:1: SettingWithCopyWarning: \n",
      "A value is trying to be set on a copy of a slice from a DataFrame.\n",
      "Try using .loc[row_indexer,col_indexer] = value instead\n",
      "\n",
      "See the caveats in the documentation: https://pandas.pydata.org/pandas-docs/stable/user_guide/indexing.html#returning-a-view-versus-a-copy\n",
      "  edges['subject_count'] = edges.groupby('subject')['subject'].transform('count')\n"
     ]
    }
   ],
   "source": [
    "edges['subject_count'] = edges.groupby('subject')['subject'].transform('count')"
   ]
  },
  {
   "cell_type": "code",
   "execution_count": 72,
   "id": "76b9d3d3-00d0-4d69-b5a4-51601b452a89",
   "metadata": {},
   "outputs": [
    {
     "data": {
      "text/html": [
       "<div>\n",
       "<style scoped>\n",
       "    .dataframe tbody tr th:only-of-type {\n",
       "        vertical-align: middle;\n",
       "    }\n",
       "\n",
       "    .dataframe tbody tr th {\n",
       "        vertical-align: top;\n",
       "    }\n",
       "\n",
       "    .dataframe thead th {\n",
       "        text-align: right;\n",
       "    }\n",
       "</style>\n",
       "<table border=\"1\" class=\"dataframe\">\n",
       "  <thead>\n",
       "    <tr style=\"text-align: right;\">\n",
       "      <th></th>\n",
       "      <th>subject</th>\n",
       "      <th>relation</th>\n",
       "      <th>object</th>\n",
       "      <th>subject_count</th>\n",
       "    </tr>\n",
       "  </thead>\n",
       "  <tbody>\n",
       "    <tr>\n",
       "      <th>28444</th>\n",
       "      <td>#dog</td>\n",
       "      <td>Dominant_start_handshape</td>\n",
       "      <td>d</td>\n",
       "      <td>4</td>\n",
       "    </tr>\n",
       "    <tr>\n",
       "      <th>28445</th>\n",
       "      <td>#dog</td>\n",
       "      <td>Dominant_end_handshape</td>\n",
       "      <td>flat–g</td>\n",
       "      <td>4</td>\n",
       "    </tr>\n",
       "    <tr>\n",
       "      <th>28446</th>\n",
       "      <td>#dog</td>\n",
       "      <td>Sign_Type</td>\n",
       "      <td>loan signs</td>\n",
       "      <td>4</td>\n",
       "    </tr>\n",
       "    <tr>\n",
       "      <th>28447</th>\n",
       "      <td>#dog</td>\n",
       "      <td>Dominant_end_handshape</td>\n",
       "      <td>g</td>\n",
       "      <td>4</td>\n",
       "    </tr>\n",
       "  </tbody>\n",
       "</table>\n",
       "</div>"
      ],
      "text/plain": [
       "      subject                  relation      object  subject_count\n",
       "28444    #dog  Dominant_start_handshape           d              4\n",
       "28445    #dog    Dominant_end_handshape      flat–g              4\n",
       "28446    #dog                 Sign_Type  loan signs              4\n",
       "28447    #dog    Dominant_end_handshape           g              4"
      ]
     },
     "execution_count": 72,
     "metadata": {},
     "output_type": "execute_result"
    }
   ],
   "source": [
    "edges[edges['subject'] == '#dog']"
   ]
  },
  {
   "cell_type": "code",
   "execution_count": null,
   "id": "c3c6f97b-c5cb-4049-a429-48f7b7e814e5",
   "metadata": {},
   "outputs": [],
   "source": []
  }
 ],
 "metadata": {
  "kernelspec": {
   "display_name": "Python 3 (ipykernel)",
   "language": "python",
   "name": "python3"
  },
  "language_info": {
   "codemirror_mode": {
    "name": "ipython",
    "version": 3
   },
   "file_extension": ".py",
   "mimetype": "text/x-python",
   "name": "python",
   "nbconvert_exporter": "python",
   "pygments_lexer": "ipython3",
   "version": "3.12.2"
  }
 },
 "nbformat": 4,
 "nbformat_minor": 5
}
