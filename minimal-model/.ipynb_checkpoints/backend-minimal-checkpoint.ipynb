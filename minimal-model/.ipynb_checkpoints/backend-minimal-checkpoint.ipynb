{
 "cells": [
  {
   "cell_type": "markdown",
   "id": "a5b98f4b-0745-49df-8f47-4f806490e6c7",
   "metadata": {},
   "source": [
    "#### Setup + Prepare Data"
   ]
  },
  {
   "cell_type": "code",
   "execution_count": 83,
   "id": "c29e4614-8039-47ea-a3b3-d8acd4201087",
   "metadata": {},
   "outputs": [
    {
     "ename": "FileNotFoundError",
     "evalue": "[Errno 2] No such file or directory: 'edges.tsv'",
     "output_type": "error",
     "traceback": [
      "\u001b[0;31m---------------------------------------------------------------------------\u001b[0m",
      "\u001b[0;31mFileNotFoundError\u001b[0m                         Traceback (most recent call last)",
      "Cell \u001b[0;32mIn[83], line 5\u001b[0m\n\u001b[1;32m      3\u001b[0m \u001b[38;5;28;01mimport\u001b[39;00m \u001b[38;5;21;01mpandas\u001b[39;00m \u001b[38;5;28;01mas\u001b[39;00m \u001b[38;5;21;01mpd\u001b[39;00m\n\u001b[1;32m      4\u001b[0m \u001b[38;5;28;01mimport\u001b[39;00m \u001b[38;5;21;01mnumpy\u001b[39;00m \u001b[38;5;28;01mas\u001b[39;00m \u001b[38;5;21;01mnp\u001b[39;00m\n\u001b[0;32m----> 5\u001b[0m edges \u001b[38;5;241m=\u001b[39m \u001b[43mpd\u001b[49m\u001b[38;5;241;43m.\u001b[39;49m\u001b[43mread_csv\u001b[49m\u001b[43m(\u001b[49m\u001b[38;5;124;43m'\u001b[39;49m\u001b[38;5;124;43medges.tsv\u001b[39;49m\u001b[38;5;124;43m'\u001b[39;49m\u001b[43m,\u001b[49m\u001b[43m \u001b[49m\u001b[43msep\u001b[49m\u001b[38;5;241;43m=\u001b[39;49m\u001b[38;5;124;43m'\u001b[39;49m\u001b[38;5;130;43;01m\\t\u001b[39;49;00m\u001b[38;5;124;43m'\u001b[39;49m\u001b[43m)\u001b[49m\n\u001b[1;32m      6\u001b[0m nodes \u001b[38;5;241m=\u001b[39m pd\u001b[38;5;241m.\u001b[39mread_csv(\u001b[38;5;124m'\u001b[39m\u001b[38;5;124mnodes.tsv\u001b[39m\u001b[38;5;124m'\u001b[39m, sep\u001b[38;5;241m=\u001b[39m\u001b[38;5;124m'\u001b[39m\u001b[38;5;130;01m\\t\u001b[39;00m\u001b[38;5;124m'\u001b[39m)\n",
      "File \u001b[0;32m/Library/Frameworks/Python.framework/Versions/3.12/lib/python3.12/site-packages/pandas/io/parsers/readers.py:1024\u001b[0m, in \u001b[0;36mread_csv\u001b[0;34m(filepath_or_buffer, sep, delimiter, header, names, index_col, usecols, dtype, engine, converters, true_values, false_values, skipinitialspace, skiprows, skipfooter, nrows, na_values, keep_default_na, na_filter, verbose, skip_blank_lines, parse_dates, infer_datetime_format, keep_date_col, date_parser, date_format, dayfirst, cache_dates, iterator, chunksize, compression, thousands, decimal, lineterminator, quotechar, quoting, doublequote, escapechar, comment, encoding, encoding_errors, dialect, on_bad_lines, delim_whitespace, low_memory, memory_map, float_precision, storage_options, dtype_backend)\u001b[0m\n\u001b[1;32m   1011\u001b[0m kwds_defaults \u001b[38;5;241m=\u001b[39m _refine_defaults_read(\n\u001b[1;32m   1012\u001b[0m     dialect,\n\u001b[1;32m   1013\u001b[0m     delimiter,\n\u001b[0;32m   (...)\u001b[0m\n\u001b[1;32m   1020\u001b[0m     dtype_backend\u001b[38;5;241m=\u001b[39mdtype_backend,\n\u001b[1;32m   1021\u001b[0m )\n\u001b[1;32m   1022\u001b[0m kwds\u001b[38;5;241m.\u001b[39mupdate(kwds_defaults)\n\u001b[0;32m-> 1024\u001b[0m \u001b[38;5;28;01mreturn\u001b[39;00m \u001b[43m_read\u001b[49m\u001b[43m(\u001b[49m\u001b[43mfilepath_or_buffer\u001b[49m\u001b[43m,\u001b[49m\u001b[43m \u001b[49m\u001b[43mkwds\u001b[49m\u001b[43m)\u001b[49m\n",
      "File \u001b[0;32m/Library/Frameworks/Python.framework/Versions/3.12/lib/python3.12/site-packages/pandas/io/parsers/readers.py:618\u001b[0m, in \u001b[0;36m_read\u001b[0;34m(filepath_or_buffer, kwds)\u001b[0m\n\u001b[1;32m    615\u001b[0m _validate_names(kwds\u001b[38;5;241m.\u001b[39mget(\u001b[38;5;124m\"\u001b[39m\u001b[38;5;124mnames\u001b[39m\u001b[38;5;124m\"\u001b[39m, \u001b[38;5;28;01mNone\u001b[39;00m))\n\u001b[1;32m    617\u001b[0m \u001b[38;5;66;03m# Create the parser.\u001b[39;00m\n\u001b[0;32m--> 618\u001b[0m parser \u001b[38;5;241m=\u001b[39m \u001b[43mTextFileReader\u001b[49m\u001b[43m(\u001b[49m\u001b[43mfilepath_or_buffer\u001b[49m\u001b[43m,\u001b[49m\u001b[43m \u001b[49m\u001b[38;5;241;43m*\u001b[39;49m\u001b[38;5;241;43m*\u001b[39;49m\u001b[43mkwds\u001b[49m\u001b[43m)\u001b[49m\n\u001b[1;32m    620\u001b[0m \u001b[38;5;28;01mif\u001b[39;00m chunksize \u001b[38;5;129;01mor\u001b[39;00m iterator:\n\u001b[1;32m    621\u001b[0m     \u001b[38;5;28;01mreturn\u001b[39;00m parser\n",
      "File \u001b[0;32m/Library/Frameworks/Python.framework/Versions/3.12/lib/python3.12/site-packages/pandas/io/parsers/readers.py:1618\u001b[0m, in \u001b[0;36mTextFileReader.__init__\u001b[0;34m(self, f, engine, **kwds)\u001b[0m\n\u001b[1;32m   1615\u001b[0m     \u001b[38;5;28mself\u001b[39m\u001b[38;5;241m.\u001b[39moptions[\u001b[38;5;124m\"\u001b[39m\u001b[38;5;124mhas_index_names\u001b[39m\u001b[38;5;124m\"\u001b[39m] \u001b[38;5;241m=\u001b[39m kwds[\u001b[38;5;124m\"\u001b[39m\u001b[38;5;124mhas_index_names\u001b[39m\u001b[38;5;124m\"\u001b[39m]\n\u001b[1;32m   1617\u001b[0m \u001b[38;5;28mself\u001b[39m\u001b[38;5;241m.\u001b[39mhandles: IOHandles \u001b[38;5;241m|\u001b[39m \u001b[38;5;28;01mNone\u001b[39;00m \u001b[38;5;241m=\u001b[39m \u001b[38;5;28;01mNone\u001b[39;00m\n\u001b[0;32m-> 1618\u001b[0m \u001b[38;5;28mself\u001b[39m\u001b[38;5;241m.\u001b[39m_engine \u001b[38;5;241m=\u001b[39m \u001b[38;5;28;43mself\u001b[39;49m\u001b[38;5;241;43m.\u001b[39;49m\u001b[43m_make_engine\u001b[49m\u001b[43m(\u001b[49m\u001b[43mf\u001b[49m\u001b[43m,\u001b[49m\u001b[43m \u001b[49m\u001b[38;5;28;43mself\u001b[39;49m\u001b[38;5;241;43m.\u001b[39;49m\u001b[43mengine\u001b[49m\u001b[43m)\u001b[49m\n",
      "File \u001b[0;32m/Library/Frameworks/Python.framework/Versions/3.12/lib/python3.12/site-packages/pandas/io/parsers/readers.py:1878\u001b[0m, in \u001b[0;36mTextFileReader._make_engine\u001b[0;34m(self, f, engine)\u001b[0m\n\u001b[1;32m   1876\u001b[0m     \u001b[38;5;28;01mif\u001b[39;00m \u001b[38;5;124m\"\u001b[39m\u001b[38;5;124mb\u001b[39m\u001b[38;5;124m\"\u001b[39m \u001b[38;5;129;01mnot\u001b[39;00m \u001b[38;5;129;01min\u001b[39;00m mode:\n\u001b[1;32m   1877\u001b[0m         mode \u001b[38;5;241m+\u001b[39m\u001b[38;5;241m=\u001b[39m \u001b[38;5;124m\"\u001b[39m\u001b[38;5;124mb\u001b[39m\u001b[38;5;124m\"\u001b[39m\n\u001b[0;32m-> 1878\u001b[0m \u001b[38;5;28mself\u001b[39m\u001b[38;5;241m.\u001b[39mhandles \u001b[38;5;241m=\u001b[39m \u001b[43mget_handle\u001b[49m\u001b[43m(\u001b[49m\n\u001b[1;32m   1879\u001b[0m \u001b[43m    \u001b[49m\u001b[43mf\u001b[49m\u001b[43m,\u001b[49m\n\u001b[1;32m   1880\u001b[0m \u001b[43m    \u001b[49m\u001b[43mmode\u001b[49m\u001b[43m,\u001b[49m\n\u001b[1;32m   1881\u001b[0m \u001b[43m    \u001b[49m\u001b[43mencoding\u001b[49m\u001b[38;5;241;43m=\u001b[39;49m\u001b[38;5;28;43mself\u001b[39;49m\u001b[38;5;241;43m.\u001b[39;49m\u001b[43moptions\u001b[49m\u001b[38;5;241;43m.\u001b[39;49m\u001b[43mget\u001b[49m\u001b[43m(\u001b[49m\u001b[38;5;124;43m\"\u001b[39;49m\u001b[38;5;124;43mencoding\u001b[39;49m\u001b[38;5;124;43m\"\u001b[39;49m\u001b[43m,\u001b[49m\u001b[43m \u001b[49m\u001b[38;5;28;43;01mNone\u001b[39;49;00m\u001b[43m)\u001b[49m\u001b[43m,\u001b[49m\n\u001b[1;32m   1882\u001b[0m \u001b[43m    \u001b[49m\u001b[43mcompression\u001b[49m\u001b[38;5;241;43m=\u001b[39;49m\u001b[38;5;28;43mself\u001b[39;49m\u001b[38;5;241;43m.\u001b[39;49m\u001b[43moptions\u001b[49m\u001b[38;5;241;43m.\u001b[39;49m\u001b[43mget\u001b[49m\u001b[43m(\u001b[49m\u001b[38;5;124;43m\"\u001b[39;49m\u001b[38;5;124;43mcompression\u001b[39;49m\u001b[38;5;124;43m\"\u001b[39;49m\u001b[43m,\u001b[49m\u001b[43m \u001b[49m\u001b[38;5;28;43;01mNone\u001b[39;49;00m\u001b[43m)\u001b[49m\u001b[43m,\u001b[49m\n\u001b[1;32m   1883\u001b[0m \u001b[43m    \u001b[49m\u001b[43mmemory_map\u001b[49m\u001b[38;5;241;43m=\u001b[39;49m\u001b[38;5;28;43mself\u001b[39;49m\u001b[38;5;241;43m.\u001b[39;49m\u001b[43moptions\u001b[49m\u001b[38;5;241;43m.\u001b[39;49m\u001b[43mget\u001b[49m\u001b[43m(\u001b[49m\u001b[38;5;124;43m\"\u001b[39;49m\u001b[38;5;124;43mmemory_map\u001b[39;49m\u001b[38;5;124;43m\"\u001b[39;49m\u001b[43m,\u001b[49m\u001b[43m \u001b[49m\u001b[38;5;28;43;01mFalse\u001b[39;49;00m\u001b[43m)\u001b[49m\u001b[43m,\u001b[49m\n\u001b[1;32m   1884\u001b[0m \u001b[43m    \u001b[49m\u001b[43mis_text\u001b[49m\u001b[38;5;241;43m=\u001b[39;49m\u001b[43mis_text\u001b[49m\u001b[43m,\u001b[49m\n\u001b[1;32m   1885\u001b[0m \u001b[43m    \u001b[49m\u001b[43merrors\u001b[49m\u001b[38;5;241;43m=\u001b[39;49m\u001b[38;5;28;43mself\u001b[39;49m\u001b[38;5;241;43m.\u001b[39;49m\u001b[43moptions\u001b[49m\u001b[38;5;241;43m.\u001b[39;49m\u001b[43mget\u001b[49m\u001b[43m(\u001b[49m\u001b[38;5;124;43m\"\u001b[39;49m\u001b[38;5;124;43mencoding_errors\u001b[39;49m\u001b[38;5;124;43m\"\u001b[39;49m\u001b[43m,\u001b[49m\u001b[43m \u001b[49m\u001b[38;5;124;43m\"\u001b[39;49m\u001b[38;5;124;43mstrict\u001b[39;49m\u001b[38;5;124;43m\"\u001b[39;49m\u001b[43m)\u001b[49m\u001b[43m,\u001b[49m\n\u001b[1;32m   1886\u001b[0m \u001b[43m    \u001b[49m\u001b[43mstorage_options\u001b[49m\u001b[38;5;241;43m=\u001b[39;49m\u001b[38;5;28;43mself\u001b[39;49m\u001b[38;5;241;43m.\u001b[39;49m\u001b[43moptions\u001b[49m\u001b[38;5;241;43m.\u001b[39;49m\u001b[43mget\u001b[49m\u001b[43m(\u001b[49m\u001b[38;5;124;43m\"\u001b[39;49m\u001b[38;5;124;43mstorage_options\u001b[39;49m\u001b[38;5;124;43m\"\u001b[39;49m\u001b[43m,\u001b[49m\u001b[43m \u001b[49m\u001b[38;5;28;43;01mNone\u001b[39;49;00m\u001b[43m)\u001b[49m\u001b[43m,\u001b[49m\n\u001b[1;32m   1887\u001b[0m \u001b[43m\u001b[49m\u001b[43m)\u001b[49m\n\u001b[1;32m   1888\u001b[0m \u001b[38;5;28;01massert\u001b[39;00m \u001b[38;5;28mself\u001b[39m\u001b[38;5;241m.\u001b[39mhandles \u001b[38;5;129;01mis\u001b[39;00m \u001b[38;5;129;01mnot\u001b[39;00m \u001b[38;5;28;01mNone\u001b[39;00m\n\u001b[1;32m   1889\u001b[0m f \u001b[38;5;241m=\u001b[39m \u001b[38;5;28mself\u001b[39m\u001b[38;5;241m.\u001b[39mhandles\u001b[38;5;241m.\u001b[39mhandle\n",
      "File \u001b[0;32m/Library/Frameworks/Python.framework/Versions/3.12/lib/python3.12/site-packages/pandas/io/common.py:873\u001b[0m, in \u001b[0;36mget_handle\u001b[0;34m(path_or_buf, mode, encoding, compression, memory_map, is_text, errors, storage_options)\u001b[0m\n\u001b[1;32m    868\u001b[0m \u001b[38;5;28;01melif\u001b[39;00m \u001b[38;5;28misinstance\u001b[39m(handle, \u001b[38;5;28mstr\u001b[39m):\n\u001b[1;32m    869\u001b[0m     \u001b[38;5;66;03m# Check whether the filename is to be opened in binary mode.\u001b[39;00m\n\u001b[1;32m    870\u001b[0m     \u001b[38;5;66;03m# Binary mode does not support 'encoding' and 'newline'.\u001b[39;00m\n\u001b[1;32m    871\u001b[0m     \u001b[38;5;28;01mif\u001b[39;00m ioargs\u001b[38;5;241m.\u001b[39mencoding \u001b[38;5;129;01mand\u001b[39;00m \u001b[38;5;124m\"\u001b[39m\u001b[38;5;124mb\u001b[39m\u001b[38;5;124m\"\u001b[39m \u001b[38;5;129;01mnot\u001b[39;00m \u001b[38;5;129;01min\u001b[39;00m ioargs\u001b[38;5;241m.\u001b[39mmode:\n\u001b[1;32m    872\u001b[0m         \u001b[38;5;66;03m# Encoding\u001b[39;00m\n\u001b[0;32m--> 873\u001b[0m         handle \u001b[38;5;241m=\u001b[39m \u001b[38;5;28;43mopen\u001b[39;49m\u001b[43m(\u001b[49m\n\u001b[1;32m    874\u001b[0m \u001b[43m            \u001b[49m\u001b[43mhandle\u001b[49m\u001b[43m,\u001b[49m\n\u001b[1;32m    875\u001b[0m \u001b[43m            \u001b[49m\u001b[43mioargs\u001b[49m\u001b[38;5;241;43m.\u001b[39;49m\u001b[43mmode\u001b[49m\u001b[43m,\u001b[49m\n\u001b[1;32m    876\u001b[0m \u001b[43m            \u001b[49m\u001b[43mencoding\u001b[49m\u001b[38;5;241;43m=\u001b[39;49m\u001b[43mioargs\u001b[49m\u001b[38;5;241;43m.\u001b[39;49m\u001b[43mencoding\u001b[49m\u001b[43m,\u001b[49m\n\u001b[1;32m    877\u001b[0m \u001b[43m            \u001b[49m\u001b[43merrors\u001b[49m\u001b[38;5;241;43m=\u001b[39;49m\u001b[43merrors\u001b[49m\u001b[43m,\u001b[49m\n\u001b[1;32m    878\u001b[0m \u001b[43m            \u001b[49m\u001b[43mnewline\u001b[49m\u001b[38;5;241;43m=\u001b[39;49m\u001b[38;5;124;43m\"\u001b[39;49m\u001b[38;5;124;43m\"\u001b[39;49m\u001b[43m,\u001b[49m\n\u001b[1;32m    879\u001b[0m \u001b[43m        \u001b[49m\u001b[43m)\u001b[49m\n\u001b[1;32m    880\u001b[0m     \u001b[38;5;28;01melse\u001b[39;00m:\n\u001b[1;32m    881\u001b[0m         \u001b[38;5;66;03m# Binary mode\u001b[39;00m\n\u001b[1;32m    882\u001b[0m         handle \u001b[38;5;241m=\u001b[39m \u001b[38;5;28mopen\u001b[39m(handle, ioargs\u001b[38;5;241m.\u001b[39mmode)\n",
      "\u001b[0;31mFileNotFoundError\u001b[0m: [Errno 2] No such file or directory: 'edges.tsv'"
     ]
    }
   ],
   "source": [
    "# Setup \n",
    "# !pip3 install pandas\n",
    "import pandas as pd\n",
    "import numpy as np\n",
    "edges = pd.read_csv('edges.tsv', sep='\\t')\n",
    "nodes = pd.read_csv('nodes.tsv', sep='\\t')"
   ]
  },
  {
   "cell_type": "markdown",
   "id": "f93b298e-4269-421d-a9dd-621d8c5209ea",
   "metadata": {},
   "source": [
    "Get a map of relations we want and possible objects (get a edges file we specifically want?)"
   ]
  },
  {
   "cell_type": "code",
   "execution_count": 84,
   "id": "fdcd32fd-0fcf-46b7-88ed-0abc212cef80",
   "metadata": {},
   "outputs": [],
   "source": [
    "columns = [\n",
    "    'Contact', 'Dominant_end_handshape', 'Dominant_start_handshape',\n",
    "    'Flexion', 'Flexion_Change', 'Handshape', 'Location', 'Major_Location',\n",
    "    'Minor_Location', 'Nondominant_Handshape', 'Path_Movement',\n",
    "    'Repeated_Movement', 'Second_Minor_Location', 'Selected_Fingers',\n",
    "    'Sign_Duration', 'Sign_Type', 'Spread', 'Spread_Change',\n",
    "    'Thumb_Contact', 'Thumb_Position', 'Wrist_Twist', 'sign_type'\n",
    "]"
   ]
  },
  {
   "cell_type": "code",
   "execution_count": 85,
   "id": "226f82d8-097c-4a81-a933-7c6467e47366",
   "metadata": {
    "scrolled": true
   },
   "outputs": [],
   "source": [
    "cols_keywords = {}\n",
    "\n",
    "for column in columns: \n",
    "    set_objs = set(edges[edges['relation'] == column]['object'])\n",
    "    cols_keywords[column] = set_objs\n",
    "   \n",
    "# print(cols_keywords)"
   ]
  },
  {
   "cell_type": "markdown",
   "id": "c681c656-1886-439b-85da-bbac92142d90",
   "metadata": {},
   "source": [
    "Update edges file"
   ]
  },
  {
   "cell_type": "code",
   "execution_count": 86,
   "id": "159f3eb3-2654-49d4-b57c-5f2ab572259e",
   "metadata": {},
   "outputs": [],
   "source": [
    "filteredEdges = edges[edges[\"relation\"].isin(columns)]"
   ]
  },
  {
   "cell_type": "markdown",
   "id": "216b9c59-4452-41eb-8826-0fcbcb89566f",
   "metadata": {},
   "source": [
    "change 1s and 0s to true and false"
   ]
  },
  {
   "cell_type": "code",
   "execution_count": 87,
   "id": "78e594d0-6250-4ee0-8702-826a972d40cc",
   "metadata": {},
   "outputs": [],
   "source": [
    "filteredEdges.loc[(filteredEdges['object'] == '1.0') & \n",
    "                  (~filteredEdges['relation'].isin(['Handshape', 'Dominant_end_handshape', 'Dominant_start_handshape', 'Nondominant_Handshape'])), \n",
    "                  ['object']] = True\n",
    "filteredEdges.loc[(filteredEdges['object'] == '1') & \n",
    "                  (~filteredEdges['relation'].isin(['Handshape', 'Dominant_end_handshape', 'Dominant_start_handshape', 'Nondominant_Handshape'])), \n",
    "                  ['object']] = True\n",
    "filteredEdges.loc[(filteredEdges['object'] == '0.0') & \n",
    "                  (~filteredEdges['relation'].isin(['Handshape', 'Dominant_end_handshape', 'Dominant_start_handshape', 'Nondominant_Handshape'])), \n",
    "                  ['object']] = False\n",
    "filteredEdges.loc[(filteredEdges['object'] == '0') & \n",
    "                  (~filteredEdges['relation'].isin(['Handshape', 'Dominant_end_handshape', 'Dominant_start_handshape', 'Nondominant_Handshape'])), \n",
    "                  ['object']] = False"
   ]
  },
  {
   "cell_type": "markdown",
   "id": "93b76de4-ec14-4168-8845-1f55cf94ebed",
   "metadata": {},
   "source": [
    "change the numerical values of into ranges (Sign_Duration)"
   ]
  },
  {
   "cell_type": "code",
   "execution_count": 88,
   "id": "7e0505af-3334-4d28-ad4f-763ae8b14096",
   "metadata": {},
   "outputs": [
    {
     "name": "stderr",
     "output_type": "stream",
     "text": [
      "/var/folders/v2/09vly0y934v7rq6zkxt1fwvr0000gn/T/ipykernel_26099/1471796543.py:3: SettingWithCopyWarning: \n",
      "A value is trying to be set on a copy of a slice from a DataFrame.\n",
      "Try using .loc[row_indexer,col_indexer] = value instead\n",
      "\n",
      "See the caveats in the documentation: https://pandas.pydata.org/pandas-docs/stable/user_guide/indexing.html#returning-a-view-versus-a-copy\n",
      "  sign_duration_rows['object'] = pd.to_numeric(sign_duration_rows['object'], errors='coerce')\n",
      "/var/folders/v2/09vly0y934v7rq6zkxt1fwvr0000gn/T/ipykernel_26099/1471796543.py:4: SettingWithCopyWarning: \n",
      "A value is trying to be set on a copy of a slice from a DataFrame\n",
      "\n",
      "See the caveats in the documentation: https://pandas.pydata.org/pandas-docs/stable/user_guide/indexing.html#returning-a-view-versus-a-copy\n",
      "  sign_duration_rows.dropna(subset=['object'], inplace=True)\n",
      "/var/folders/v2/09vly0y934v7rq6zkxt1fwvr0000gn/T/ipykernel_26099/1471796543.py:5: SettingWithCopyWarning: \n",
      "A value is trying to be set on a copy of a slice from a DataFrame.\n",
      "Try using .loc[row_indexer,col_indexer] = value instead\n",
      "\n",
      "See the caveats in the documentation: https://pandas.pydata.org/pandas-docs/stable/user_guide/indexing.html#returning-a-view-versus-a-copy\n",
      "  sign_duration_rows['object'] = (sign_duration_rows['object'] // 100) * 100\n",
      "/var/folders/v2/09vly0y934v7rq6zkxt1fwvr0000gn/T/ipykernel_26099/1471796543.py:6: SettingWithCopyWarning: \n",
      "A value is trying to be set on a copy of a slice from a DataFrame.\n",
      "Try using .loc[row_indexer,col_indexer] = value instead\n",
      "\n",
      "See the caveats in the documentation: https://pandas.pydata.org/pandas-docs/stable/user_guide/indexing.html#returning-a-view-versus-a-copy\n",
      "  sign_duration_rows['object'] = sign_duration_rows['object'].astype(int).astype(str)\n"
     ]
    }
   ],
   "source": [
    "#for all sign duration values, round down to nearest 100 to get a 'range'\n",
    "sign_duration_rows = filteredEdges[filteredEdges['relation'] == 'Sign_Duration']\n",
    "sign_duration_rows['object'] = pd.to_numeric(sign_duration_rows['object'], errors='coerce')\n",
    "sign_duration_rows.dropna(subset=['object'], inplace=True)\n",
    "sign_duration_rows['object'] = (sign_duration_rows['object'] // 100) * 100\n",
    "sign_duration_rows['object'] = sign_duration_rows['object'].astype(int).astype(str)\n",
    "filteredEdges.loc[sign_duration_rows.index, 'object'] = sign_duration_rows['object']"
   ]
  },
  {
   "cell_type": "markdown",
   "id": "721719f1-8c7c-4359-bbbb-9e66105cc277",
   "metadata": {},
   "source": [
    "Keep only the columns I want"
   ]
  },
  {
   "cell_type": "code",
   "execution_count": 89,
   "id": "8a48023e-d644-45dd-862d-35a8f248c18b",
   "metadata": {},
   "outputs": [],
   "source": [
    "filteredEdges = filteredEdges.loc[:, ['subject', 'relation', 'object']]"
   ]
  },
  {
   "cell_type": "code",
   "execution_count": 90,
   "id": "9b5d11e4-dfa7-4418-a6ed-26b580159224",
   "metadata": {},
   "outputs": [],
   "source": [
    "filteredEdges['subject_count'] = filteredEdges.groupby('subject')['subject'].transform('count')"
   ]
  },
  {
   "cell_type": "code",
   "execution_count": 91,
   "id": "63d7e1f5-627d-4a6d-9171-059c47c8cb43",
   "metadata": {},
   "outputs": [],
   "source": [
    "filteredEdges\n",
    "filteredEdges.to_csv('filteredEdges.csv', index=False)"
   ]
  },
  {
   "cell_type": "code",
   "execution_count": 92,
   "id": "bdc4efe9-6f91-42fc-b639-72a95c9acbe1",
   "metadata": {},
   "outputs": [],
   "source": [
    "filtered_cols_keywords = {}\n",
    "\n",
    "for column in columns: \n",
    "    set_objs = set(filteredEdges[filteredEdges['relation'] == column]['object'])\n",
    "    filtered_cols_keywords[column] = set_objs"
   ]
  },
  {
   "cell_type": "code",
   "execution_count": 93,
   "id": "fd781d20-8171-4146-abcd-7295377b38ad",
   "metadata": {
    "scrolled": true
   },
   "outputs": [],
   "source": [
    "filtered_cols_keywords\n",
    "np.save('filtered_edges_dict.npy', filtered_cols_keywords) "
   ]
  },
  {
   "cell_type": "code",
   "execution_count": 94,
   "id": "66f348b9-ca33-400f-8cb5-c2ec6ed52a8c",
   "metadata": {},
   "outputs": [],
   "source": [
    "keywords_df = pd.DataFrame.from_dict(filtered_cols_keywords, orient='index')\n",
    "keywords_df.to_csv('keywords_df.csv', index=True, index_label='relation')"
   ]
  },
  {
   "cell_type": "markdown",
   "id": "f6ff29d6-3756-4959-b491-9c7c0ee79479",
   "metadata": {},
   "source": [
    "#### Model"
   ]
  },
  {
   "cell_type": "markdown",
   "id": "7a1aee1e-0d2c-45e8-b925-576055680381",
   "metadata": {},
   "source": [
    "##### Recieve a list of phonological features"
   ]
  },
  {
   "cell_type": "markdown",
   "id": "cd91c4ec-59c4-447b-a3dc-f00f99b7a30e",
   "metadata": {},
   "source": [
    "##### For each sign, get a set of signs at which that relation = true"
   ]
  },
  {
   "cell_type": "markdown",
   "id": "b6954174-7548-44a5-9b13-c39e85e24530",
   "metadata": {},
   "source": [
    "##### Get an ordered list of signs with descending # of keyword matches"
   ]
  },
  {
   "cell_type": "markdown",
   "id": "46381686-0467-4fd7-bc0b-db551ae9866e",
   "metadata": {},
   "source": [
    "##### Get & display gloss and #matches for top n signs"
   ]
  }
 ],
 "metadata": {
  "kernelspec": {
   "display_name": "Python 3 (ipykernel)",
   "language": "python",
   "name": "python3"
  },
  "language_info": {
   "codemirror_mode": {
    "name": "ipython",
    "version": 3
   },
   "file_extension": ".py",
   "mimetype": "text/x-python",
   "name": "python",
   "nbconvert_exporter": "python",
   "pygments_lexer": "ipython3",
   "version": "3.12.2"
  }
 },
 "nbformat": 4,
 "nbformat_minor": 5
}
